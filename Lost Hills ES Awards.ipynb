{
 "cells": [
  {
   "cell_type": "markdown",
   "id": "0e50a873",
   "metadata": {},
   "source": [
    "# Lost Hills Elementary Awards\n",
    "\n",
    "Students in Lost Hills are given an award based on whether they have earned As and Bs in their classes. The different categories that the students fall under will be determined to find out which award they have earned."
   ]
  },
  {
   "cell_type": "code",
   "execution_count": null,
   "id": "8e2a60f2",
   "metadata": {},
   "outputs": [],
   "source": [
    "import numpy as np\n",
    "import pandas as pd"
   ]
  },
  {
   "cell_type": "code",
   "execution_count": null,
   "id": "283c34e0",
   "metadata": {},
   "outputs": [],
   "source": [
    "# LIST STU GRD CRS TCH STU.SC STU.ID STU.NM STU.GR GRD.CN CRS.CO GRD.M1 GRD.M2 GRD.M3 GRD.M4 GRD.M5 GRD.M6 TCH.TE BY TCH.TE GRD.CN \n",
    "\n",
    "marks = pd.read_excel(r\"C:\\Users\\derek.castleman\\Desktop\\Marks.xlsx\")\n",
    "marks"
   ]
  },
  {
   "cell_type": "markdown",
   "id": "be57363a",
   "metadata": {},
   "source": [
    "## Grade Points\n",
    "\n",
    "The term of grades that are of interest will be selected and then filtered down to only the classes that have grades. Then students will be given a point value based on the grade that they received in a class. "
   ]
  },
  {
   "cell_type": "code",
   "execution_count": null,
   "id": "d1a59e1e",
   "metadata": {},
   "outputs": [],
   "source": [
    "# Selecting Mark of Interest\n",
    "e = input(\"Mark that you are interested: Mark1, Mark2, etc...    \")\n",
    "e"
   ]
  },
  {
   "cell_type": "code",
   "execution_count": null,
   "id": "116eb802",
   "metadata": {},
   "outputs": [],
   "source": [
    "# Narrows down the columns\n",
    "marks = marks[['School', 'Student ID', 'Student Name', 'Grade', 'Course title', 'Teacher name', e]]\n",
    "marks"
   ]
  },
  {
   "cell_type": "code",
   "execution_count": null,
   "id": "c15728aa",
   "metadata": {},
   "outputs": [],
   "source": [
    "# Selects classes where there are only a grade\n",
    "marks = marks[marks[e].notna()]\n",
    "marks"
   ]
  },
  {
   "cell_type": "code",
   "execution_count": null,
   "id": "11531560",
   "metadata": {},
   "outputs": [],
   "source": [
    "# Selects A grades\n",
    "grade_a = marks[(marks[e] == 'A+') | (marks[e] == 'A') | (marks[e] == 'A-')]\n",
    "grade_a"
   ]
  },
  {
   "cell_type": "code",
   "execution_count": null,
   "id": "e1d65815",
   "metadata": {},
   "outputs": [],
   "source": [
    "# Assigns a value of 2 for each A\n",
    "grade_a['Score'] = 2\n",
    "grade_a"
   ]
  },
  {
   "cell_type": "code",
   "execution_count": null,
   "id": "4212a31a",
   "metadata": {},
   "outputs": [],
   "source": [
    "# Selects the B grades\n",
    "grade_b = marks[(marks[e] == 'B+') | (marks[e] == 'B') | (marks[e] == 'B-')]\n",
    "grade_b"
   ]
  },
  {
   "cell_type": "code",
   "execution_count": null,
   "id": "33048cca",
   "metadata": {},
   "outputs": [],
   "source": [
    "# Gives a value of 1 for each B grade\n",
    "grade_b['Score'] = 1"
   ]
  },
  {
   "cell_type": "code",
   "execution_count": null,
   "id": "3a18d6a9",
   "metadata": {},
   "outputs": [],
   "source": [
    "grade_b"
   ]
  },
  {
   "cell_type": "code",
   "execution_count": null,
   "id": "ea581cf4",
   "metadata": {},
   "outputs": [],
   "source": [
    "# Selects all grades that are under B\n",
    "other = marks[marks[e] > 'B-']\n",
    "other"
   ]
  },
  {
   "cell_type": "code",
   "execution_count": null,
   "id": "fa9b7713",
   "metadata": {},
   "outputs": [],
   "source": [
    "# Gives 0 points for all these other grades\n",
    "other['Score'] = 0\n",
    "other"
   ]
  },
  {
   "cell_type": "code",
   "execution_count": null,
   "id": "8b2d0aa0",
   "metadata": {},
   "outputs": [],
   "source": [
    "# Puts all of the different grades back together again\n",
    "marks = pd.concat([grade_a, grade_b, other])\n",
    "marks"
   ]
  },
  {
   "cell_type": "code",
   "execution_count": null,
   "id": "e2337df8",
   "metadata": {},
   "outputs": [],
   "source": [
    "# Sums up the points that the students earned on their grades\n",
    "marks = marks.groupby(by = ['School', 'Student ID', 'Student Name', 'Grade', 'Teacher name'])['Score'].sum().reset_index()\n",
    "marks"
   ]
  },
  {
   "cell_type": "markdown",
   "id": "9fcb18de",
   "metadata": {},
   "source": [
    "## Categories\n",
    "\n",
    "The different categories that the students will be placed into will be determined by the grade level that they are in since lower grades have only two classes and upper grades three as well using the total score of points they have attained through the grades they have earned."
   ]
  },
  {
   "cell_type": "code",
   "execution_count": null,
   "id": "417ab807",
   "metadata": {},
   "outputs": [],
   "source": [
    "# Selecting students in the lower grades\n",
    "lower = marks[marks['Grade'] < 5]\n",
    "lower"
   ]
  },
  {
   "cell_type": "code",
   "execution_count": null,
   "id": "178447ef",
   "metadata": {},
   "outputs": [],
   "source": [
    "# Selects students with a score of 4\n",
    "justalower = lower[lower['Score'] == 4]\n",
    "justalower"
   ]
  },
  {
   "cell_type": "code",
   "execution_count": null,
   "id": "1fda1c5b",
   "metadata": {},
   "outputs": [],
   "source": [
    "# These students are given a category of All A\n",
    "justalower['Category'] = 'All A'\n",
    "justalower"
   ]
  },
  {
   "cell_type": "code",
   "execution_count": null,
   "id": "fe31ed5f",
   "metadata": {},
   "outputs": [],
   "source": [
    "# Selects students with a score of 2\n",
    "justblower = lower[lower['Score'] == 2]\n",
    "justblower"
   ]
  },
  {
   "cell_type": "code",
   "execution_count": null,
   "id": "0cdf2933",
   "metadata": {},
   "outputs": [],
   "source": [
    "# Students are given a category of All B\n",
    "justblower['Category'] = 'All B'\n",
    "justblower"
   ]
  },
  {
   "cell_type": "code",
   "execution_count": null,
   "id": "b299ef93",
   "metadata": {},
   "outputs": [],
   "source": [
    "# Students with a total of 3 points are selected\n",
    "ablower = lower[lower['Score'] == 3]\n",
    "ablower"
   ]
  },
  {
   "cell_type": "code",
   "execution_count": null,
   "id": "a0681d32",
   "metadata": {},
   "outputs": [],
   "source": [
    "# Students are given a category of AB\n",
    "ablower['Category'] = 'AB'\n",
    "ablower"
   ]
  },
  {
   "cell_type": "code",
   "execution_count": null,
   "id": "1f691433",
   "metadata": {},
   "outputs": [],
   "source": [
    "# Students with less than two points are selected\n",
    "allelse = lower[lower['Score'] < 2] \n",
    "allelse"
   ]
  },
  {
   "cell_type": "code",
   "execution_count": null,
   "id": "2ba960ad",
   "metadata": {},
   "outputs": [],
   "source": [
    "# Students are given a category of none\n",
    "allelse['Category'] = 'None'\n",
    "allelse"
   ]
  },
  {
   "cell_type": "code",
   "execution_count": null,
   "id": "616acfd7",
   "metadata": {},
   "outputs": [],
   "source": [
    "# The four different student groups are put back together\n",
    "lower = pd.concat([justalower, justblower, ablower, allelse])\n",
    "lower"
   ]
  },
  {
   "cell_type": "code",
   "execution_count": null,
   "id": "1acb0ea1",
   "metadata": {},
   "outputs": [],
   "source": [
    "# The upper level grades are chosen\n",
    "upper = marks[(marks['Grade'] == 5) | (marks['Grade'] == 6)]\n",
    "upper"
   ]
  },
  {
   "cell_type": "code",
   "execution_count": null,
   "id": "348e39d9",
   "metadata": {},
   "outputs": [],
   "source": [
    "# All students with a score of 6 are chosen\n",
    "allaupper = upper[upper['Score'] == 6]\n",
    "allaupper"
   ]
  },
  {
   "cell_type": "code",
   "execution_count": null,
   "id": "32712171",
   "metadata": {},
   "outputs": [],
   "source": [
    "# Students are assigned a category of All A\n",
    "allaupper['Category'] = 'All A'"
   ]
  },
  {
   "cell_type": "code",
   "execution_count": null,
   "id": "c1c3988b",
   "metadata": {},
   "outputs": [],
   "source": [
    "allaupper"
   ]
  },
  {
   "cell_type": "code",
   "execution_count": null,
   "id": "463ff706",
   "metadata": {},
   "outputs": [],
   "source": [
    "# Students with a score of 3 are chosen\n",
    "allbupper = upper[upper['Score'] == 3]\n",
    "allbupper"
   ]
  },
  {
   "cell_type": "code",
   "execution_count": null,
   "id": "430bd28e",
   "metadata": {},
   "outputs": [],
   "source": [
    "# Students are assigned a category of All B\n",
    "allbupper['Category'] = 'All B'\n",
    "allbupper"
   ]
  },
  {
   "cell_type": "code",
   "execution_count": null,
   "id": "4697861e",
   "metadata": {},
   "outputs": [],
   "source": [
    "# Students with a score of 4 or 5 are chosen\n",
    "abupper = upper[(upper['Score'] == 4) | (upper['Score'] == 5)]\n",
    "abupper"
   ]
  },
  {
   "cell_type": "code",
   "execution_count": null,
   "id": "bac52724",
   "metadata": {},
   "outputs": [],
   "source": [
    "# Students are given a category of AB\n",
    "abupper['Category'] = 'AB'\n",
    "abupper"
   ]
  },
  {
   "cell_type": "code",
   "execution_count": null,
   "id": "ec82361f",
   "metadata": {},
   "outputs": [],
   "source": [
    "# Students with less than 3 are chosen\n",
    "other = upper[upper['Score'] < 3]\n",
    "other"
   ]
  },
  {
   "cell_type": "code",
   "execution_count": null,
   "id": "90fd6ce2",
   "metadata": {},
   "outputs": [],
   "source": [
    "# Students are given a category of None\n",
    "other['Category'] = 'None'"
   ]
  },
  {
   "cell_type": "code",
   "execution_count": null,
   "id": "e2c88a02",
   "metadata": {},
   "outputs": [],
   "source": [
    "other"
   ]
  },
  {
   "cell_type": "code",
   "execution_count": null,
   "id": "2ef7c287",
   "metadata": {},
   "outputs": [],
   "source": [
    "# The four groups are put back together again\n",
    "upper = pd.concat([allaupper, allbupper, abupper, other])\n",
    "upper"
   ]
  },
  {
   "cell_type": "code",
   "execution_count": null,
   "id": "7bad614d",
   "metadata": {},
   "outputs": [],
   "source": [
    "# Put lower and upper graders together\n",
    "allstudents = pd.concat([upper, lower])\n",
    "allstudents"
   ]
  },
  {
   "cell_type": "code",
   "execution_count": null,
   "id": "4d62ed64",
   "metadata": {},
   "outputs": [],
   "source": [
    "import base64\n",
    "from IPython.display import HTML\n",
    "\n",
    "def create_download_link( df, title = \"Lost Hills Awards\", filename = \"Lost Hills Awards\"):\n",
    "    csv = df.to_csv()\n",
    "    b64 = base64.b64encode(csv.encode())\n",
    "    payload = b64.decode()\n",
    "    html = '<a download=\"{filename}\" href=\"data:text/csv;base64,{payload}\" target=\"_blank\">{title}</a>'\n",
    "    html = html.format(payload=payload,title=title,filename=filename)\n",
    "    return HTML(html)\n",
    "\n",
    "create_download_link(allstudents)"
   ]
  },
  {
   "cell_type": "code",
   "execution_count": null,
   "id": "babaebcb",
   "metadata": {},
   "outputs": [],
   "source": []
  }
 ],
 "metadata": {
  "kernelspec": {
   "display_name": "Python 3 (ipykernel)",
   "language": "python",
   "name": "python3"
  },
  "language_info": {
   "codemirror_mode": {
    "name": "ipython",
    "version": 3
   },
   "file_extension": ".py",
   "mimetype": "text/x-python",
   "name": "python",
   "nbconvert_exporter": "python",
   "pygments_lexer": "ipython3",
   "version": "3.9.7"
  }
 },
 "nbformat": 4,
 "nbformat_minor": 5
}
