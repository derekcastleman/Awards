{
 "cells": [
  {
   "cell_type": "markdown",
   "id": "0d1573c1",
   "metadata": {},
   "source": [
    "# Biliteracy Seal\n",
    "\n",
    "In this Jupyter notebook students' eligibility for the State Seal of Biliteracy will be calculated by loading in the cleaned transcript file for Class Grade Corrections for ILP as well as the state assessment data for SBAC and the most recent ELPAC for students that are still English Language Learners. The students GPA in their Spanish courses will be calculated, the GPA for their top four ELA classes will be calculated, whether they Met the SBAC or not will be looked at, and if they are an EL students it will look at their performance on the Oral part of the test. Students will be filtered down to just the Spanish 3 students and they will then be looked at if they met the English requirement (3.0 GPA or SBAC Met), Spanish requirement (3.0 GPA) and if they are EL they met on the Oral portion of ELPAC."
   ]
  },
  {
   "cell_type": "code",
   "execution_count": null,
   "id": "f92b5056",
   "metadata": {},
   "outputs": [],
   "source": [
    "import numpy as np\n",
    "import pandas as pd"
   ]
  },
  {
   "cell_type": "code",
   "execution_count": null,
   "id": "5bec11cb",
   "metadata": {},
   "outputs": [],
   "source": [
    "# LIST STU SC ID CID LN FN GR LF \n",
    "roster = pd.read_excel(r\"C:\\Users\\derek.castleman\\Desktop\\Roster Biliteracy.xlsx\")\n",
    "\n",
    "# From Course Correction for ILP Jupyter notebook\n",
    "transcripts = pd.read_csv(r\"C:\\Users\\derek.castleman\\Desktop\\Fixed Transcripts.csv\")\n",
    "\n",
    "# Raw Cers file for state tests\n",
    "tests = pd.read_csv(r\"C:\\Users\\derek.castleman\\Desktop\\Joie Stuff\\CERS_SBAC_2023-24_6_20_24ALL.csv\")\n",
    "\n",
    "# LIST STU ID TST TST.ID TST.PT TST.PL TST.TD \n",
    "elpac = pd.read_excel(r\"C:\\Users\\derek.castleman\\Desktop\\elpac.xlsx\")"
   ]
  },
  {
   "cell_type": "code",
   "execution_count": null,
   "id": "83075121",
   "metadata": {},
   "outputs": [],
   "source": [
    "transcripts"
   ]
  },
  {
   "cell_type": "markdown",
   "id": "a7dc8248",
   "metadata": {},
   "source": [
    "## Spanish\n",
    "\n",
    "The first part will filter the Spanish courses out of the transcripts and calculate the GPA for those courses that the students have taken."
   ]
  },
  {
   "cell_type": "code",
   "execution_count": null,
   "id": "60b5d0f2",
   "metadata": {},
   "outputs": [],
   "source": [
    "# Selecting foreing language classes\n",
    "spanish = transcripts[transcripts['CSU Req'] == 'E']\n",
    "spanish"
   ]
  },
  {
   "cell_type": "code",
   "execution_count": null,
   "id": "30a75fde",
   "metadata": {},
   "outputs": [],
   "source": [
    "# Selecting out any that are Spanish\n",
    "spanish = spanish[spanish['Course'].str.contains('spa', case=False, na=False)]\n",
    "spanish"
   ]
  },
  {
   "cell_type": "markdown",
   "id": "a8d17320",
   "metadata": {},
   "source": [
    "### BC Spanish Courses\n",
    "\n",
    "The BC Spanish course actually counts as two grades since it is a year class. The BC courses will be selected out and then duplicated to represent this full year representation."
   ]
  },
  {
   "cell_type": "code",
   "execution_count": null,
   "id": "436bf96b",
   "metadata": {},
   "outputs": [],
   "source": [
    "# Selecting the non-bc courses\n",
    "non_bc = spanish[spanish['Crs Lvl'] != 24]\n",
    "non_bc"
   ]
  },
  {
   "cell_type": "code",
   "execution_count": null,
   "id": "1d49ffa0",
   "metadata": {},
   "outputs": [],
   "source": [
    "# Selecting the BC courses\n",
    "bc = spanish[spanish['Crs Lvl'] == 24]\n",
    "bc"
   ]
  },
  {
   "cell_type": "code",
   "execution_count": null,
   "id": "451c41d8",
   "metadata": {},
   "outputs": [],
   "source": [
    "# Doubling the BC courses\n",
    "bc = pd.concat([bc, bc])\n",
    "bc"
   ]
  },
  {
   "cell_type": "code",
   "execution_count": null,
   "id": "0eeef428",
   "metadata": {},
   "outputs": [],
   "source": [
    "# Adding the Non-BC to the BC to get all classes again\n",
    "spanish = pd.concat([non_bc, bc])\n",
    "spanish"
   ]
  },
  {
   "cell_type": "markdown",
   "id": "4abf4bdd",
   "metadata": {},
   "source": [
    "### Spanish GPA\n",
    "\n",
    "In this section the GPA for all of the Spanish classes taken will be calculated. It will be done by filtering them out by A's (a point value of 4, B's (value of 3), C's (value of 2), D's (value of 1), and F's with no value. The GPA will be calculated by dividing the total points earned by the number of semesters that a student has taken."
   ]
  },
  {
   "cell_type": "code",
   "execution_count": null,
   "id": "d7e90067",
   "metadata": {},
   "outputs": [],
   "source": [
    "# Gives a value of 1 for each semester taken\n",
    "spanish['Spanish Semesters'] = 1\n",
    "spanish"
   ]
  },
  {
   "cell_type": "code",
   "execution_count": null,
   "id": "929295d2",
   "metadata": {},
   "outputs": [],
   "source": [
    "# A grades are chosen\n",
    "spanish_a = spanish[(spanish['Mark'] == 'A+') | (spanish['Mark'] == 'A') | (spanish['Mark'] == 'A-')]\n",
    "spanish_a"
   ]
  },
  {
   "cell_type": "code",
   "execution_count": null,
   "id": "c2181dae",
   "metadata": {},
   "outputs": [],
   "source": [
    "# A value of 4 is given to A\n",
    "spanish_a['Points'] = 4\n",
    "spanish_a"
   ]
  },
  {
   "cell_type": "code",
   "execution_count": null,
   "id": "347a4282",
   "metadata": {},
   "outputs": [],
   "source": [
    "# The B grades are chosen\n",
    "spanish_b = spanish[(spanish['Mark'] == 'B+') | (spanish['Mark'] == 'B') | (spanish['Mark'] == 'B-')]\n",
    "spanish_b"
   ]
  },
  {
   "cell_type": "code",
   "execution_count": null,
   "id": "e014186c",
   "metadata": {},
   "outputs": [],
   "source": [
    "# A value of 3 is given to Bs\n",
    "spanish_b['Points'] = 3\n",
    "spanish_b"
   ]
  },
  {
   "cell_type": "code",
   "execution_count": null,
   "id": "f847633c",
   "metadata": {},
   "outputs": [],
   "source": [
    "# The C grades are selected\n",
    "spanish_c = spanish[(spanish['Mark'] == 'C+') | (spanish['Mark'] == 'C') | (spanish['Mark'] == 'C-')]\n",
    "spanish_c"
   ]
  },
  {
   "cell_type": "code",
   "execution_count": null,
   "id": "83a410ec",
   "metadata": {},
   "outputs": [],
   "source": [
    "# A value of 2 is given to C grades\n",
    "spanish_c['Points'] = 2\n",
    "spanish_c"
   ]
  },
  {
   "cell_type": "code",
   "execution_count": null,
   "id": "25a7e005",
   "metadata": {},
   "outputs": [],
   "source": [
    "# The D grades are selected\n",
    "spanish_d = spanish[(spanish['Mark'] == 'D+') | (spanish['Mark'] == 'D') | (spanish['Mark'] == 'D-')]\n",
    "spanish_d"
   ]
  },
  {
   "cell_type": "code",
   "execution_count": null,
   "id": "847c174d",
   "metadata": {},
   "outputs": [],
   "source": [
    "# A value of 1 is given to D\n",
    "spanish_d['Points'] = 1\n",
    "spanish_d"
   ]
  },
  {
   "cell_type": "code",
   "execution_count": null,
   "id": "767e9a0c",
   "metadata": {},
   "outputs": [],
   "source": [
    "# The F grades are selected\n",
    "spanish_f = spanish[spanish['Mark'] == 'F']\n",
    "spanish_f"
   ]
  },
  {
   "cell_type": "code",
   "execution_count": null,
   "id": "694e9538",
   "metadata": {},
   "outputs": [],
   "source": [
    "# A value of 0 is given to F\n",
    "spanish_f['Points'] = 0\n",
    "spanish_f"
   ]
  },
  {
   "cell_type": "code",
   "execution_count": null,
   "id": "25788e3a",
   "metadata": {},
   "outputs": [],
   "source": [
    "# All the grades are put back together again\n",
    "spanish = pd.concat([spanish_a, spanish_b, spanish_c, spanish_d, spanish_f])\n",
    "spanish"
   ]
  },
  {
   "cell_type": "code",
   "execution_count": null,
   "id": "06f5ebc6",
   "metadata": {},
   "outputs": [],
   "source": [
    "# The sum of semesters taken is calculated\n",
    "spanish_courses = spanish.groupby(['Student ID'])['Spanish Semesters'].sum().reset_index()\n",
    "spanish_courses"
   ]
  },
  {
   "cell_type": "code",
   "execution_count": null,
   "id": "7471f833",
   "metadata": {},
   "outputs": [],
   "source": [
    "# The sum of points is added up based on the grades\n",
    "spanish_points = spanish.groupby(['Student ID'])['Points'].sum().reset_index()\n",
    "spanish_points"
   ]
  },
  {
   "cell_type": "code",
   "execution_count": null,
   "id": "8c095d50",
   "metadata": {},
   "outputs": [],
   "source": [
    "# Semester and points are put together\n",
    "spanish = pd.merge(spanish_courses, spanish_points, how='inner', on='Student ID')\n",
    "spanish"
   ]
  },
  {
   "cell_type": "code",
   "execution_count": null,
   "id": "7387b8b0",
   "metadata": {},
   "outputs": [],
   "source": [
    "# GPA is calculated by dividng the points by semesters completed\n",
    "spanish['Spanish GPA'] = spanish['Points'] / spanish['Spanish Semesters']\n",
    "spanish"
   ]
  },
  {
   "cell_type": "code",
   "execution_count": null,
   "id": "529a2207",
   "metadata": {},
   "outputs": [],
   "source": [
    "# Just the columns of interest are selected\n",
    "spanish = spanish[['Student ID', 'Spanish Semesters', 'Spanish GPA']]\n",
    "spanish"
   ]
  },
  {
   "cell_type": "markdown",
   "id": "06f03109",
   "metadata": {},
   "source": [
    "## ELA\n",
    "\n",
    "The GPA for students in their ELA courses will be caclulated in the same manner as the Spanish GPA. But since it is only the ones required for graduation, it will be the top four courses that a student has completed that will be used in calculating the GPA. This will be done by summing the points earned in each course and then have them in descending order and selecting the top four."
   ]
  },
  {
   "cell_type": "code",
   "execution_count": null,
   "id": "ec4706a1",
   "metadata": {},
   "outputs": [],
   "source": [
    "# ELA courses are selected by UC/CSU requirement\n",
    "ela = transcripts[transcripts['CSU Req'] == 'B']\n",
    "ela"
   ]
  },
  {
   "cell_type": "markdown",
   "id": "dcccbe32",
   "metadata": {},
   "source": [
    "### Fixing BC\n",
    "\n",
    "The BC courses have to be fixed because they represent a full year of coursework rather than one semester like the other courses do."
   ]
  },
  {
   "cell_type": "code",
   "execution_count": null,
   "id": "08d4d2ca",
   "metadata": {},
   "outputs": [],
   "source": [
    "# Non-BC courses are selected\n",
    "non_bc = ela[ela['Crs Lvl'] != 24]\n",
    "non_bc"
   ]
  },
  {
   "cell_type": "code",
   "execution_count": null,
   "id": "b19d2725",
   "metadata": {},
   "outputs": [],
   "source": [
    "# BC courses selected\n",
    "bc = ela[ela['Crs Lvl'] == 24]\n",
    "bc"
   ]
  },
  {
   "cell_type": "code",
   "execution_count": null,
   "id": "695411de",
   "metadata": {},
   "outputs": [],
   "source": [
    "# BC courses are duplicated\n",
    "bc = pd.concat([bc, bc])\n",
    "bc"
   ]
  },
  {
   "cell_type": "code",
   "execution_count": null,
   "id": "8e583ed5",
   "metadata": {},
   "outputs": [],
   "source": [
    "# The courses are all put back together\n",
    "ela = pd.concat([bc, non_bc])\n",
    "ela"
   ]
  },
  {
   "cell_type": "markdown",
   "id": "43ab742d",
   "metadata": {},
   "source": [
    "### ELA GPA Calculation\n",
    "\n",
    "The GPA will be calculated in the same manner as the Spanish GPA but it will only be for the top four courses that a student did."
   ]
  },
  {
   "cell_type": "code",
   "execution_count": null,
   "id": "10b1ef5e",
   "metadata": {},
   "outputs": [],
   "source": [
    "# Students are given credit for one semester for each course\n",
    "ela['ELA Semesters'] = 1\n",
    "ela"
   ]
  },
  {
   "cell_type": "code",
   "execution_count": null,
   "id": "87edd382",
   "metadata": {},
   "outputs": [],
   "source": [
    "# A grades are selected\n",
    "ela_a = ela[(ela['Mark'] == 'A+') | (ela['Mark'] == 'A') | (ela['Mark'] == 'A-')]\n",
    "ela_a"
   ]
  },
  {
   "cell_type": "code",
   "execution_count": null,
   "id": "7c538ea5",
   "metadata": {},
   "outputs": [],
   "source": [
    "# 4 points are given for each A\n",
    "ela_a['Points'] = 4\n",
    "ela_a"
   ]
  },
  {
   "cell_type": "code",
   "execution_count": null,
   "id": "1c4acf5e",
   "metadata": {},
   "outputs": [],
   "source": [
    "# B grades are selected\n",
    "ela_b = ela[(ela['Mark'] == 'B+') | (ela['Mark'] == 'B') | (ela['Mark'] == 'B-')]\n",
    "ela_b"
   ]
  },
  {
   "cell_type": "code",
   "execution_count": null,
   "id": "994cec36",
   "metadata": {},
   "outputs": [],
   "source": [
    "# A score of 3 is given to each B grade\n",
    "ela_b['Points'] = 3\n",
    "ela_b"
   ]
  },
  {
   "cell_type": "code",
   "execution_count": null,
   "id": "9e3bb1b9",
   "metadata": {},
   "outputs": [],
   "source": [
    "# The C grades are selected\n",
    "ela_c = ela[(ela['Mark'] == 'C+') | (ela['Mark'] == 'C') | (ela['Mark'] == 'C-')]\n",
    "ela_c"
   ]
  },
  {
   "cell_type": "code",
   "execution_count": null,
   "id": "1669774a",
   "metadata": {},
   "outputs": [],
   "source": [
    "# A score of 2 is given for each C grade\n",
    "ela_c['Points'] = 2\n",
    "ela_c"
   ]
  },
  {
   "cell_type": "code",
   "execution_count": null,
   "id": "4c86f271",
   "metadata": {},
   "outputs": [],
   "source": [
    "# The D grades are selected\n",
    "ela_d = ela[(ela['Mark'] == 'D+') | (ela['Mark'] == 'D') | (ela['Mark'] == 'D-')]\n",
    "ela_d"
   ]
  },
  {
   "cell_type": "code",
   "execution_count": null,
   "id": "a00d65c2",
   "metadata": {},
   "outputs": [],
   "source": [
    "# One point is given for each D\n",
    "ela_d['Points'] = 1\n",
    "ela_d"
   ]
  },
  {
   "cell_type": "code",
   "execution_count": null,
   "id": "1228d8fb",
   "metadata": {},
   "outputs": [],
   "source": [
    "# F grades are selected\n",
    "ela_f = ela[ela['Mark'] == 'F']\n",
    "ela_f"
   ]
  },
  {
   "cell_type": "code",
   "execution_count": null,
   "id": "b74a44ce",
   "metadata": {},
   "outputs": [],
   "source": [
    "# There is 0 points given for each F\n",
    "ela_f['Points'] = 0\n",
    "ela_f"
   ]
  },
  {
   "cell_type": "code",
   "execution_count": null,
   "id": "42691387",
   "metadata": {},
   "outputs": [],
   "source": [
    "# All the grades are put back together again\n",
    "ela = pd.concat([ela_a, ela_b, ela_c, ela_d, ela_f])\n",
    "ela"
   ]
  },
  {
   "cell_type": "code",
   "execution_count": null,
   "id": "18a8011e",
   "metadata": {},
   "outputs": [],
   "source": [
    "# Semesters completed by course are added\n",
    "ela_courses = ela.groupby(['Student ID', 'Course'])['ELA Semesters'].sum().reset_index()\n",
    "ela_courses"
   ]
  },
  {
   "cell_type": "code",
   "execution_count": null,
   "id": "2c43725a",
   "metadata": {},
   "outputs": [],
   "source": [
    "# Points by course are added\n",
    "ela_points = ela.groupby(['Student ID', 'Course'])['Points'].sum().reset_index()\n",
    "ela_points"
   ]
  },
  {
   "cell_type": "code",
   "execution_count": null,
   "id": "11c11ad4",
   "metadata": {},
   "outputs": [],
   "source": [
    "# Semesters and Points are put together\n",
    "ela = pd.merge(ela_courses, ela_points, how='inner', on=['Student ID', 'Course'])\n",
    "ela"
   ]
  },
  {
   "cell_type": "code",
   "execution_count": null,
   "id": "9a127f4e",
   "metadata": {},
   "outputs": [],
   "source": [
    "# Sorts columns by student id and points in courses\n",
    "ela = ela.sort_values(by=['Student ID', 'Points'], ascending=[False, False])\n",
    "ela"
   ]
  },
  {
   "cell_type": "code",
   "execution_count": null,
   "id": "a0429e29",
   "metadata": {},
   "outputs": [],
   "source": [
    "# Picks the top four courses\n",
    "ela = ela.groupby(['Student ID']).head(4)\n",
    "ela"
   ]
  },
  {
   "cell_type": "code",
   "execution_count": null,
   "id": "ba96de69",
   "metadata": {},
   "outputs": [],
   "source": [
    "# Sums all of the semesters up\n",
    "ela_courses = ela.groupby(['Student ID'])['ELA Semesters'].sum().reset_index()\n",
    "ela_courses"
   ]
  },
  {
   "cell_type": "code",
   "execution_count": null,
   "id": "b5187a0c",
   "metadata": {},
   "outputs": [],
   "source": [
    "# Sums up the points earned in ELA\n",
    "ela_points = ela.groupby(['Student ID'])['Points'].sum().reset_index()\n",
    "ela_points"
   ]
  },
  {
   "cell_type": "code",
   "execution_count": null,
   "id": "884f69e0",
   "metadata": {},
   "outputs": [],
   "source": [
    "# Merges semesters and points\n",
    "ela = pd.merge(ela_courses, ela_points, how='inner', on='Student ID')\n",
    "ela"
   ]
  },
  {
   "cell_type": "code",
   "execution_count": null,
   "id": "bd6f4d6d",
   "metadata": {},
   "outputs": [],
   "source": [
    "# Calculates a GPA by dividing points by semesters\n",
    "ela['ELA GPA'] = ela['Points'] / ela['ELA Semesters']\n",
    "ela"
   ]
  },
  {
   "cell_type": "code",
   "execution_count": null,
   "id": "3451ecf0",
   "metadata": {},
   "outputs": [],
   "source": [
    "# Narrows columns down to semesters and ELA GPA\n",
    "ela = ela[['Student ID', 'ELA Semesters', 'ELA GPA']]\n",
    "ela"
   ]
  },
  {
   "cell_type": "markdown",
   "id": "25b0544f",
   "metadata": {},
   "source": [
    "## SBAC\n",
    "\n",
    "How students performed on the SBAC will be looked at. It will be done by incoporating the cers file that is received and then narrowing it down to summative ELA. If a student scores a 3 or above they will earn a Met for this part if they do not get this score it will be noted that it is Not Met."
   ]
  },
  {
   "cell_type": "code",
   "execution_count": null,
   "id": "d8983b61",
   "metadata": {
    "scrolled": true
   },
   "outputs": [],
   "source": [
    "tests"
   ]
  },
  {
   "cell_type": "code",
   "execution_count": null,
   "id": "0d680565",
   "metadata": {},
   "outputs": [],
   "source": [
    "# Chooses summative tests\n",
    "tests = tests[tests['AssessmentType'] == 'Summative']\n",
    "tests"
   ]
  },
  {
   "cell_type": "code",
   "execution_count": null,
   "id": "3ddd662e",
   "metadata": {},
   "outputs": [],
   "source": [
    "# Chooses ELA tests\n",
    "tests = tests[tests['Subject'] == 'ELA']\n",
    "tests"
   ]
  },
  {
   "cell_type": "code",
   "execution_count": null,
   "id": "027f064f",
   "metadata": {},
   "outputs": [],
   "source": [
    "# Narrows it down to subject and level\n",
    "tests = tests[['StudentIdentifier', 'Subject', 'ScaleScoreAchievementLevel']]\n",
    "tests"
   ]
  },
  {
   "cell_type": "code",
   "execution_count": null,
   "id": "ba973c2c",
   "metadata": {},
   "outputs": [],
   "source": [
    "# Selects levels 3 and above\n",
    "sbacpass = tests[tests['ScaleScoreAchievementLevel'] >= 3]\n",
    "sbacpass"
   ]
  },
  {
   "cell_type": "code",
   "execution_count": null,
   "id": "a0391310",
   "metadata": {},
   "outputs": [],
   "source": [
    "# Gives a value of Met for a new column called SBAC\n",
    "sbacpass['SBAC'] = 'Met'\n",
    "sbacpass"
   ]
  },
  {
   "cell_type": "code",
   "execution_count": null,
   "id": "a809c918",
   "metadata": {},
   "outputs": [],
   "source": [
    "# Selects students with a score of 2 or less\n",
    "sbacfail = tests[tests['ScaleScoreAchievementLevel'] <= 2]\n",
    "sbacfail"
   ]
  },
  {
   "cell_type": "code",
   "execution_count": null,
   "id": "dc88a157",
   "metadata": {},
   "outputs": [],
   "source": [
    "# Gives Not Met for SBAC with the students\n",
    "sbacfail['SBAC'] = 'Not Met'\n",
    "sbacfail"
   ]
  },
  {
   "cell_type": "code",
   "execution_count": null,
   "id": "1495ce84",
   "metadata": {},
   "outputs": [],
   "source": [
    "# Puts all of the SBAC scores back together\n",
    "sbac = pd.concat([sbacpass, sbacfail])\n",
    "sbac"
   ]
  },
  {
   "cell_type": "markdown",
   "id": "9cdeef27",
   "metadata": {},
   "source": [
    "## Merge\n",
    "\n",
    "Rosters for students will be narrowed down to those that have taken Spanish 3 and then to those who are in the 12th grade. The data that has been worked on will all be merged with the filtered down roster."
   ]
  },
  {
   "cell_type": "code",
   "execution_count": null,
   "id": "76cf6581",
   "metadata": {},
   "outputs": [],
   "source": [
    "roster"
   ]
  },
  {
   "cell_type": "code",
   "execution_count": null,
   "id": "b0328b5c",
   "metadata": {},
   "outputs": [],
   "source": [
    "transcripts"
   ]
  },
  {
   "cell_type": "code",
   "execution_count": null,
   "id": "76d36e4b",
   "metadata": {},
   "outputs": [],
   "source": [
    "# Finds Spanish 3 among the transcripts of students\n",
    "spanish3 = transcripts[transcripts['Course'] == 'Spanish 3']\n",
    "spanish3"
   ]
  },
  {
   "cell_type": "code",
   "execution_count": null,
   "id": "969be074",
   "metadata": {},
   "outputs": [],
   "source": [
    "# Selects only 12th graders that took Spanish 3\n",
    "spanish3 = spanish3[spanish3['Grade'] == 12]\n",
    "spanish3"
   ]
  },
  {
   "cell_type": "code",
   "execution_count": null,
   "id": "7634c144",
   "metadata": {},
   "outputs": [],
   "source": [
    "# Narrows down just to the Student ID\n",
    "spanish3 = spanish3[['Student ID']]\n",
    "spanish3"
   ]
  },
  {
   "cell_type": "code",
   "execution_count": null,
   "id": "591c0567",
   "metadata": {},
   "outputs": [],
   "source": [
    "# Does an inner join from the transcript to narrow down the roster to just these students\n",
    "roster = pd.merge(roster, spanish3, how='inner', on='Student ID')\n",
    "roster"
   ]
  },
  {
   "cell_type": "code",
   "execution_count": null,
   "id": "1a3b6d4a",
   "metadata": {},
   "outputs": [],
   "source": [
    "# Merges in the Spanish GPA\n",
    "merge = pd.merge(roster, spanish, how='inner', on='Student ID')\n",
    "merge"
   ]
  },
  {
   "cell_type": "code",
   "execution_count": null,
   "id": "0d1a5058",
   "metadata": {},
   "outputs": [],
   "source": [
    "# Merges in ELA GPA\n",
    "merge = pd.merge(merge, ela, how='inner', on='Student ID')\n",
    "merge"
   ]
  },
  {
   "cell_type": "code",
   "execution_count": null,
   "id": "04bac7ec",
   "metadata": {},
   "outputs": [],
   "source": [
    "# Merges in how students performed on the SBAC\n",
    "merge = pd.merge(merge, sbac, how='left', left_on='State Student ID', right_on='StudentIdentifier')\n",
    "merge"
   ]
  },
  {
   "cell_type": "code",
   "execution_count": null,
   "id": "ebee9850",
   "metadata": {},
   "outputs": [],
   "source": [
    "# Drops any extra categories\n",
    "merge = merge.drop(columns=['StudentIdentifier', 'Subject', 'ScaleScoreAchievementLevel'])\n",
    "merge"
   ]
  },
  {
   "cell_type": "markdown",
   "id": "cb7e1366",
   "metadata": {},
   "source": [
    "## On Track"
   ]
  },
  {
   "cell_type": "code",
   "execution_count": null,
   "id": "69f95da8",
   "metadata": {},
   "outputs": [],
   "source": [
    "merge"
   ]
  },
  {
   "cell_type": "code",
   "execution_count": null,
   "id": "1111e2e0",
   "metadata": {},
   "outputs": [],
   "source": [
    "# Students who have under a 3.0 in Spanish classes\n",
    "spanish_no = merge[merge['Spanish GPA'] < 3]\n",
    "spanish_no"
   ]
  },
  {
   "cell_type": "code",
   "execution_count": null,
   "id": "b0cd663c",
   "metadata": {},
   "outputs": [],
   "source": [
    "# Students are labeled as not on track since they are not meeting Spanish requirement\n",
    "spanish_no['On Track'] = 'No'\n",
    "spanish_no"
   ]
  },
  {
   "cell_type": "code",
   "execution_count": null,
   "id": "0ec00c43",
   "metadata": {},
   "outputs": [],
   "source": [
    "# Selecting students who have a Spanish GPA 3.0\n",
    "spanish_yes = merge[merge['Spanish GPA'] >= 3]\n",
    "spanish_yes"
   ]
  },
  {
   "cell_type": "code",
   "execution_count": null,
   "id": "f0ab4608",
   "metadata": {},
   "outputs": [],
   "source": [
    "# Selects students who have met SBAC who are meeting Spanish GPA requirement\n",
    "spanish_sbac = spanish_yes[spanish_yes['SBAC'] == 'Met']\n",
    "spanish_sbac"
   ]
  },
  {
   "cell_type": "code",
   "execution_count": null,
   "id": "b6f79350",
   "metadata": {},
   "outputs": [],
   "source": [
    "# Saying these students are on track\n",
    "spanish_sbac['On Track'] = 'Yes'\n",
    "spanish_sbac"
   ]
  },
  {
   "cell_type": "code",
   "execution_count": null,
   "id": "cf404cf6",
   "metadata": {},
   "outputs": [],
   "source": [
    "# Selects students who did not meet in SBAC\n",
    "spanish_no_sbac = spanish_yes[spanish_yes['SBAC'] != 'Met']\n",
    "spanish_no_sbac"
   ]
  },
  {
   "cell_type": "code",
   "execution_count": null,
   "id": "8ffec51f",
   "metadata": {},
   "outputs": [],
   "source": [
    "# Selects students with above a 3.0 GPA in English\n",
    "spanish_ela_yes = spanish_no_sbac[spanish_no_sbac['ELA GPA'] >= 3]\n",
    "spanish_ela_yes"
   ]
  },
  {
   "cell_type": "code",
   "execution_count": null,
   "id": "7639368d",
   "metadata": {},
   "outputs": [],
   "source": [
    "# Marks these students On Track\n",
    "spanish_ela_yes['On Track'] = 'Yes'\n",
    "spanish_ela_yes"
   ]
  },
  {
   "cell_type": "code",
   "execution_count": null,
   "id": "fe8c43bc",
   "metadata": {},
   "outputs": [],
   "source": [
    "# Marks students with under a 3.0 GPA as being that way\n",
    "spanish_ela_no = spanish_no_sbac[spanish_no_sbac['ELA GPA'] < 3]\n",
    "spanish_ela_no"
   ]
  },
  {
   "cell_type": "code",
   "execution_count": null,
   "id": "f7c4e025",
   "metadata": {},
   "outputs": [],
   "source": [
    "# These students are marked as not being on track\n",
    "spanish_ela_no['On Track'] = 'No'\n",
    "spanish_ela_no"
   ]
  },
  {
   "cell_type": "code",
   "execution_count": null,
   "id": "9fb201ef",
   "metadata": {},
   "outputs": [],
   "source": [
    "# Puts together all of the student data once again\n",
    "final = pd.concat([spanish_sbac, spanish_ela_yes, spanish_ela_no, spanish_no])\n",
    "final"
   ]
  },
  {
   "cell_type": "markdown",
   "id": "a354accf",
   "metadata": {},
   "source": [
    "## EL Students\n",
    "\n",
    "Students that are English Language Learners have another criteria that needs to be met and that is for them to have a 4 on the Speaking and Listening part of the ELPAC. Using the data from the Aeries Query the part (Part 1) of the ELPAC will be chosen and then looked at to determine if these students are on track or not."
   ]
  },
  {
   "cell_type": "code",
   "execution_count": null,
   "id": "b69efa56",
   "metadata": {},
   "outputs": [],
   "source": [
    "final"
   ]
  },
  {
   "cell_type": "code",
   "execution_count": null,
   "id": "5fa3e0d2",
   "metadata": {},
   "outputs": [],
   "source": [
    "# Selects non-EL students\n",
    "non_el = final[final['LangFlu'] != 'L']\n",
    "non_el"
   ]
  },
  {
   "cell_type": "code",
   "execution_count": null,
   "id": "9cb02018",
   "metadata": {},
   "outputs": [],
   "source": [
    "# Selects EL students\n",
    "el = final[final['LangFlu'] == 'L']\n",
    "el"
   ]
  },
  {
   "cell_type": "code",
   "execution_count": null,
   "id": "4c2f4a17",
   "metadata": {},
   "outputs": [],
   "source": [
    "elpac"
   ]
  },
  {
   "cell_type": "code",
   "execution_count": null,
   "id": "b94fa4cc",
   "metadata": {},
   "outputs": [],
   "source": [
    "# Selects ELPAC out of the tests\n",
    "elpac = elpac[elpac['TESTID'] == 'ELPAC']\n",
    "elpac"
   ]
  },
  {
   "cell_type": "code",
   "execution_count": null,
   "id": "2cbf540b",
   "metadata": {},
   "outputs": [],
   "source": [
    "# Searches for the right part of the test\n",
    "elpac = elpac[elpac['Part'] == 1]\n",
    "elpac"
   ]
  },
  {
   "cell_type": "code",
   "execution_count": null,
   "id": "3a46c304",
   "metadata": {},
   "outputs": [],
   "source": [
    "elpac.info()"
   ]
  },
  {
   "cell_type": "code",
   "execution_count": null,
   "id": "b735f3c5",
   "metadata": {},
   "outputs": [],
   "source": [
    "# Changes date from a string into a datetime\n",
    "elpac['Date Taken']= pd.to_datetime(elpac['Date Taken'])\n",
    "elpac"
   ]
  },
  {
   "cell_type": "code",
   "execution_count": null,
   "id": "6f1ae0cd",
   "metadata": {},
   "outputs": [],
   "source": [
    "# Sorts by most recent date and down\n",
    "elpac = elpac.sort_values(by=['Student ID' , 'Date Taken'], ascending=[False, False])\n",
    "elpac"
   ]
  },
  {
   "cell_type": "code",
   "execution_count": null,
   "id": "3c8f3d15",
   "metadata": {},
   "outputs": [],
   "source": [
    "# Drops all duplicates and keeps the most recent test.\n",
    "elpac = elpac.drop_duplicates(subset='Student ID', keep='first')\n",
    "elpac"
   ]
  },
  {
   "cell_type": "code",
   "execution_count": null,
   "id": "7e101f7c",
   "metadata": {},
   "outputs": [],
   "source": [
    "# Narrows columns down\n",
    "elpac = elpac[['Student ID', 'PerformLvl']]\n",
    "elpac"
   ]
  },
  {
   "cell_type": "code",
   "execution_count": null,
   "id": "82fd80c8",
   "metadata": {},
   "outputs": [],
   "source": [
    "# Renames columns\n",
    "elpac = elpac.rename(columns={'PerformLvl': 'Oral Level'})\n",
    "elpac"
   ]
  },
  {
   "cell_type": "code",
   "execution_count": null,
   "id": "248f4b9d",
   "metadata": {},
   "outputs": [],
   "source": [
    "el"
   ]
  },
  {
   "cell_type": "code",
   "execution_count": null,
   "id": "b14bc413",
   "metadata": {},
   "outputs": [],
   "source": [
    "# Merges test with chosen EL students\n",
    "el = pd.merge(el, elpac, how='inner', on='Student ID')\n",
    "el"
   ]
  },
  {
   "cell_type": "code",
   "execution_count": null,
   "id": "a00804ca",
   "metadata": {},
   "outputs": [],
   "source": [
    "el_on_track= el[el['On Track'] =='Yes']\n",
    "el_on_track"
   ]
  },
  {
   "cell_type": "code",
   "execution_count": null,
   "id": "9777c783",
   "metadata": {},
   "outputs": [],
   "source": [
    "el_not_track= el[el['On Track'] =='No']\n",
    "el_not_track"
   ]
  },
  {
   "cell_type": "code",
   "execution_count": null,
   "id": "2c749e34",
   "metadata": {},
   "outputs": [],
   "source": [
    "passed_elpac = el_on_track[el_on_track['Oral Level'] >=4]\n",
    "passed_elpac['On Track'] = 'Yes'\n",
    "passed_elpac"
   ]
  },
  {
   "cell_type": "code",
   "execution_count": null,
   "id": "4092d5e4",
   "metadata": {},
   "outputs": [],
   "source": [
    "failed_elpac = el_on_track[el_on_track['Oral Level'] <3]\n",
    "failed_elpac['On Track'] = 'No'\n",
    "failed_elpac"
   ]
  },
  {
   "cell_type": "code",
   "execution_count": null,
   "id": "8de579a7",
   "metadata": {},
   "outputs": [],
   "source": [
    "el = pd.concat([passed_elpac, failed_elpac, el_not_track])\n",
    "el"
   ]
  },
  {
   "cell_type": "code",
   "execution_count": null,
   "id": "afa54388",
   "metadata": {},
   "outputs": [],
   "source": [
    "final = pd.concat([non_el, el])\n",
    "final"
   ]
  },
  {
   "cell_type": "code",
   "execution_count": null,
   "id": "f7b013a3",
   "metadata": {},
   "outputs": [],
   "source": [
    "column_to_move = final.pop('On Track')\n",
    "final['On Track'] = column_to_move\n",
    "final"
   ]
  },
  {
   "cell_type": "code",
   "execution_count": null,
   "id": "f643748b",
   "metadata": {},
   "outputs": [],
   "source": [
    "import base64\n",
    "from IPython.display import HTML\n",
    "\n",
    "def create_download_link( df, title = \"Biliteracy\", filename = \"Biliteracy\"):\n",
    "    csv = df.to_csv()\n",
    "    b64 = base64.b64encode(csv.encode())\n",
    "    payload = b64.decode()\n",
    "    html = '<a download=\"{filename}\" href=\"data:text/csv;base64,{payload}\" target=\"_blank\">{title}</a>'\n",
    "    html = html.format(payload=payload,title=title,filename=filename)\n",
    "    return HTML(html)\n",
    "\n",
    "create_download_link(final)"
   ]
  },
  {
   "cell_type": "code",
   "execution_count": null,
   "id": "5735d072",
   "metadata": {},
   "outputs": [],
   "source": []
  }
 ],
 "metadata": {
  "kernelspec": {
   "display_name": "Python 3 (ipykernel)",
   "language": "python",
   "name": "python3"
  },
  "language_info": {
   "codemirror_mode": {
    "name": "ipython",
    "version": 3
   },
   "file_extension": ".py",
   "mimetype": "text/x-python",
   "name": "python",
   "nbconvert_exporter": "python",
   "pygments_lexer": "ipython3",
   "version": "3.9.7"
  }
 },
 "nbformat": 4,
 "nbformat_minor": 5
}
