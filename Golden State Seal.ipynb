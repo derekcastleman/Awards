{
 "cells": [
  {
   "cell_type": "markdown",
   "id": "ea4896c2",
   "metadata": {},
   "source": [
    "# Golden State Seal\n",
    "\n",
    "In this Jupyter notebook the various qualifications for what is needed for a student to earn the Golden State Seal are looked at in order to determine if they have earned this after their junior year. Whether or not they have passed the SBAC tests will be looked at as well as how they performed in the courses from freshman to junior year in order to make these determinations."
   ]
  },
  {
   "cell_type": "code",
   "execution_count": null,
   "id": "f07ecb2d",
   "metadata": {},
   "outputs": [],
   "source": [
    "import numpy as np\n",
    "import pandas as pd"
   ]
  },
  {
   "cell_type": "code",
   "execution_count": null,
   "id": "d3cb9a13",
   "metadata": {},
   "outputs": [],
   "source": [
    "# LIST STU SC ID CID LN FN GR IF GR = 12\n",
    "\n",
    "students = pd.read_excel(r\"C:\\Users\\derek.castleman\\Desktop\\Students.xlsx\")\n",
    "\n",
    "sbac = pd.read_csv(r\"C:\\Users\\derek.castleman\\Desktop\\CERS_SBAC_2023-24_6_20_24ALL.csv\")\n",
    "\n",
    "# LIST STU HIS CRS STU.ID STU.NM STU.GR HIS.CN CRS.CO HIS.TE HIS.YR HIS.MK CRS.E1 HIS.ST \n",
    "\n",
    "transcripts = pd.read_excel(r\"C:\\Users\\derek.castleman\\Desktop\\Transcripts Golden.xlsx\")\n",
    "\n",
    "# LIST CRS CO E1 U1 DC CL (BC courses are 24)\n",
    "\n",
    "bc_courses = pd.read_excel(r\"C:\\Users\\derek.castleman\\Desktop\\Courses.xlsx\")"
   ]
  },
  {
   "cell_type": "code",
   "execution_count": null,
   "id": "10d954d2",
   "metadata": {},
   "outputs": [],
   "source": [
    "students"
   ]
  },
  {
   "cell_type": "code",
   "execution_count": null,
   "id": "5abee078",
   "metadata": {},
   "outputs": [],
   "source": [
    "transcripts"
   ]
  },
  {
   "cell_type": "code",
   "execution_count": null,
   "id": "6e07ef48",
   "metadata": {},
   "outputs": [],
   "source": [
    "# Selects the transcripts of only the 12th graders\n",
    "transcripts = transcripts[transcripts['Grade'] == 12]\n",
    "transcripts"
   ]
  },
  {
   "cell_type": "code",
   "execution_count": null,
   "id": "77a29d89",
   "metadata": {},
   "outputs": [],
   "source": [
    "a = input('Two year number of beginning of freshman year = ') #Input freshman year\n",
    "a = int(a) # Converting the input into an integer"
   ]
  },
  {
   "cell_type": "code",
   "execution_count": null,
   "id": "ce0c5b58",
   "metadata": {},
   "outputs": [],
   "source": [
    "b = input('Two year number of beginning of senior year = ') #Input senior year\n",
    "b = int(b) # Converting the input into an integer"
   ]
  },
  {
   "cell_type": "code",
   "execution_count": null,
   "id": "52369044",
   "metadata": {},
   "outputs": [],
   "source": [
    "# Selects transcript grades from freshman through junior year\n",
    "transcripts = transcripts[(transcripts['Year'] >= a) & (transcripts['Year'] < b)]\n",
    "transcripts"
   ]
  },
  {
   "cell_type": "markdown",
   "id": "a7cb386d",
   "metadata": {},
   "source": [
    "## SBAC\n",
    "\n",
    "The performance of the students will be looked at for how they did on their assessment during their junior year. If they earned a score above 3 then they will be labelled as meeting this requirement and the rest will be labelled as a no."
   ]
  },
  {
   "cell_type": "code",
   "execution_count": null,
   "id": "5bcde800",
   "metadata": {},
   "outputs": [],
   "source": [
    "sbac"
   ]
  },
  {
   "cell_type": "code",
   "execution_count": null,
   "id": "72e41eb8",
   "metadata": {},
   "outputs": [],
   "source": [
    "# Selects columns of interest\n",
    "sbac = sbac[['StudentIdentifier', 'AssessmentType', 'Subject', 'ScaleScoreAchievementLevel']]\n",
    "sbac"
   ]
  },
  {
   "cell_type": "code",
   "execution_count": null,
   "id": "981bfa7a",
   "metadata": {},
   "outputs": [],
   "source": [
    "# Selects the summative tests\n",
    "sbac = sbac[sbac['AssessmentType'] == 'Summative']\n",
    "sbac"
   ]
  },
  {
   "cell_type": "code",
   "execution_count": null,
   "id": "d73479f0",
   "metadata": {},
   "outputs": [],
   "source": [
    "# The ELA test is selected\n",
    "sbac_ela = sbac[sbac['Subject'] == 'ELA']\n",
    "sbac_ela"
   ]
  },
  {
   "cell_type": "code",
   "execution_count": null,
   "id": "e3268163",
   "metadata": {},
   "outputs": [],
   "source": [
    "# Students who passed are selected and then assigned that value\n",
    "sbac_ela_passed = sbac_ela[sbac_ela['ScaleScoreAchievementLevel'] >=3]\n",
    "sbac_ela_passed['SBAC ELA'] = 'Yes'\n",
    "sbac_ela_passed"
   ]
  },
  {
   "cell_type": "code",
   "execution_count": null,
   "id": "c8396edd",
   "metadata": {},
   "outputs": [],
   "source": [
    "# Students who did not pass are given that value\n",
    "sbac_ela_failed = sbac_ela[sbac_ela['ScaleScoreAchievementLevel'] <3]\n",
    "sbac_ela_failed['SBAC ELA'] = 'No'\n",
    "sbac_ela_failed"
   ]
  },
  {
   "cell_type": "code",
   "execution_count": null,
   "id": "140870bd",
   "metadata": {},
   "outputs": [],
   "source": [
    "# Both groups of ela are put back together\n",
    "sbac_ela = pd.concat([sbac_ela_passed, sbac_ela_failed])\n",
    "sbac_ela"
   ]
  },
  {
   "cell_type": "code",
   "execution_count": null,
   "id": "37b99f44",
   "metadata": {},
   "outputs": [],
   "source": [
    "# Math tests are selected\n",
    "sbac_math = sbac[sbac['Subject'] == 'Math']\n",
    "sbac_math"
   ]
  },
  {
   "cell_type": "code",
   "execution_count": null,
   "id": "7bc4758b",
   "metadata": {},
   "outputs": [],
   "source": [
    "# Students who passed math are assigned that value\n",
    "sbac_math_passed = sbac_math[sbac_math['ScaleScoreAchievementLevel'] >=3]\n",
    "sbac_math_passed['SBAC Math'] = 'Yes'\n",
    "sbac_math_passed"
   ]
  },
  {
   "cell_type": "code",
   "execution_count": null,
   "id": "124c5f8f",
   "metadata": {},
   "outputs": [],
   "source": [
    "# Students who did not pass math are assigned that value\n",
    "sbac_math_failed = sbac_math[sbac_math['ScaleScoreAchievementLevel'] <3]\n",
    "sbac_math_failed['SBAC Math'] = 'No'\n",
    "sbac_math_failed"
   ]
  },
  {
   "cell_type": "code",
   "execution_count": null,
   "id": "b7c04a65",
   "metadata": {},
   "outputs": [],
   "source": [
    "# Both math groups are selected\n",
    "sbac_math = pd.concat([sbac_math_passed, sbac_math_failed])\n",
    "sbac_math"
   ]
  },
  {
   "cell_type": "code",
   "execution_count": null,
   "id": "b6e9047c",
   "metadata": {},
   "outputs": [],
   "source": [
    "# ELA and Math dataframed are merged together\n",
    "sbac = pd.merge(sbac_ela, sbac_math, how='outer', on='StudentIdentifier')\n",
    "sbac"
   ]
  },
  {
   "cell_type": "code",
   "execution_count": null,
   "id": "7bfa39f2",
   "metadata": {},
   "outputs": [],
   "source": [
    "# Narroed down to whether or not they passed the test\n",
    "sbac = sbac[['StudentIdentifier', 'SBAC ELA', 'SBAC Math']]\n",
    "sbac"
   ]
  },
  {
   "cell_type": "code",
   "execution_count": null,
   "id": "a451bc44",
   "metadata": {},
   "outputs": [],
   "source": [
    "students"
   ]
  },
  {
   "cell_type": "code",
   "execution_count": null,
   "id": "cda0727b",
   "metadata": {},
   "outputs": [],
   "source": [
    "# The state tests are merged with the student roster\n",
    "students_sbac = pd.merge(students, sbac, how='left', left_on = 'State Student ID', right_on='StudentIdentifier')\n",
    "students_sbac"
   ]
  },
  {
   "cell_type": "code",
   "execution_count": null,
   "id": "8417703e",
   "metadata": {},
   "outputs": [],
   "source": [
    "students_sbac = students_sbac.drop('StudentIdentifier', axis=1)\n",
    "students_sbac"
   ]
  },
  {
   "cell_type": "markdown",
   "id": "7bde89d2",
   "metadata": {},
   "source": [
    "## Transcipt Cleaning\n",
    "\n",
    "The transcripts are cleaned up to determine the top two grades that a student earned in any course that they have taken if it is a non-bc course while the top single grade is chosen for any bc course that they have taken."
   ]
  },
  {
   "cell_type": "code",
   "execution_count": null,
   "id": "4ece8d4d",
   "metadata": {},
   "outputs": [],
   "source": [
    "transcripts"
   ]
  },
  {
   "cell_type": "code",
   "execution_count": null,
   "id": "277c929b",
   "metadata": {},
   "outputs": [],
   "source": [
    "# Only uc/csu courses are selected\n",
    "transcripts = transcripts[transcripts['CSU Req'].notna()]\n",
    "transcripts"
   ]
  },
  {
   "cell_type": "code",
   "execution_count": null,
   "id": "d12f30af",
   "metadata": {},
   "outputs": [],
   "source": [
    "bc_courses = bc_courses.rename(columns={'Course ID':'Course#'})\n",
    "bc_courses"
   ]
  },
  {
   "cell_type": "code",
   "execution_count": null,
   "id": "e429acf7",
   "metadata": {},
   "outputs": [],
   "source": [
    "# The bc course flags are merged with the transcripts\n",
    "merged = pd.merge(transcripts, bc_courses, how='left', on=['Course title', 'CSU Req'])\n",
    "merged"
   ]
  },
  {
   "cell_type": "code",
   "execution_count": null,
   "id": "2799ab3f",
   "metadata": {},
   "outputs": [],
   "source": [
    "# Non-bc courses are selected\n",
    "minus_bc  = merged[merged['Crs Lvl'] != 24]\n",
    "minus_bc"
   ]
  },
  {
   "cell_type": "code",
   "execution_count": null,
   "id": "9a740959",
   "metadata": {},
   "outputs": [],
   "source": [
    "# The top two grades in any given course are selected\n",
    "grades_sorted_not_bc = minus_bc.sort_values(['Student ID','Course title','Mark']).groupby(['Student ID','Course title']).head(2)\n",
    "grades_sorted_not_bc"
   ]
  },
  {
   "cell_type": "code",
   "execution_count": null,
   "id": "0b56d5a1",
   "metadata": {},
   "outputs": [],
   "source": [
    "# The bc courses are selected\n",
    "bc_course = merged.loc[merged['Crs Lvl'] == 24]\n",
    "bc_course"
   ]
  },
  {
   "cell_type": "code",
   "execution_count": null,
   "id": "bd0945a6",
   "metadata": {},
   "outputs": [],
   "source": [
    "# The top course in any bc course is selected\n",
    "bc_sorted = bc_course.sort_values(['Student ID','Course title','Mark']).groupby(['Student ID','Course title']).head(1)\n",
    "bc_sorted"
   ]
  },
  {
   "cell_type": "code",
   "execution_count": null,
   "id": "ac3e3039",
   "metadata": {},
   "outputs": [],
   "source": [
    "# The non bc courses and bc courses are put back together\n",
    "grades = pd.concat([grades_sorted_not_bc, bc_sorted])"
   ]
  },
  {
   "cell_type": "code",
   "execution_count": null,
   "id": "1d9b27c3",
   "metadata": {},
   "outputs": [],
   "source": [
    "grades"
   ]
  },
  {
   "cell_type": "markdown",
   "id": "1c2f1f6b",
   "metadata": {},
   "source": [
    "### ELA\n",
    "\n",
    "The courses that meet the uc/csu requirment for ELA are selected. Then the terms in which a student earned a B+ and above are looked at and then the number of courses that have two terms meeting this requirement are calculated for each student"
   ]
  },
  {
   "cell_type": "code",
   "execution_count": null,
   "id": "6e448bce",
   "metadata": {},
   "outputs": [],
   "source": [
    "# Courses meeting the ELA requirement are selected\n",
    "ela = grades[grades['CSU Req'] == 'B']\n",
    "ela"
   ]
  },
  {
   "cell_type": "code",
   "execution_count": null,
   "id": "36807e50",
   "metadata": {},
   "outputs": [],
   "source": [
    "# The courses with a B+ or above are looked at\n",
    "ela_passed = ela[(ela['Mark'] == 'B+') | (ela['Mark'] == 'A-') | (ela['Mark'] == 'A') | (ela['Mark'] == 'A+')]\n",
    "ela_passed"
   ]
  },
  {
   "cell_type": "code",
   "execution_count": null,
   "id": "f407d8b1",
   "metadata": {},
   "outputs": [],
   "source": [
    "# Assigned a value of one for passing the term\n",
    "ela_passed['ELA Terms'] = 1\n",
    "ela_passed"
   ]
  },
  {
   "cell_type": "code",
   "execution_count": null,
   "id": "a7af8f75",
   "metadata": {},
   "outputs": [],
   "source": [
    "# Courses are group and then the total number of terms passed are calculated\n",
    "ela_passed = ela_passed.groupby(['Student ID', 'Course title'])['ELA Terms'].sum().reset_index()\n",
    "ela_passed"
   ]
  },
  {
   "cell_type": "code",
   "execution_count": null,
   "id": "f64fb69a",
   "metadata": {},
   "outputs": [],
   "source": [
    "# The classes with two terms passed are selected\n",
    "ela_passed = ela_passed[ela_passed['ELA Terms'] > 1]\n",
    "ela_passed"
   ]
  },
  {
   "cell_type": "code",
   "execution_count": null,
   "id": "4c7b0d2e",
   "metadata": {},
   "outputs": [],
   "source": [
    "# Given a value of one ELA course being completely passed\n",
    "ela_passed['ELA'] = 1\n",
    "ela_passed"
   ]
  },
  {
   "cell_type": "code",
   "execution_count": null,
   "id": "5fd10352",
   "metadata": {},
   "outputs": [],
   "source": [
    "# The total number of ELA courses are passed\n",
    "ela = ela_passed.groupby(['Student ID'])['ELA'].sum().reset_index()\n",
    "ela"
   ]
  },
  {
   "cell_type": "markdown",
   "id": "947aebd6",
   "metadata": {},
   "source": [
    "### Math\n",
    "\n",
    "A similar process with the math courses is carried out as with the ELA courses to figure out how many Math courses were passed."
   ]
  },
  {
   "cell_type": "code",
   "execution_count": null,
   "id": "0d223b70",
   "metadata": {},
   "outputs": [],
   "source": [
    "# Classes meeting the math requirement are selected\n",
    "math = grades[grades['CSU Req'] == 'C']\n",
    "math"
   ]
  },
  {
   "cell_type": "code",
   "execution_count": null,
   "id": "86a1a2b3",
   "metadata": {},
   "outputs": [],
   "source": [
    "# Selects math courses that were a B+ and above\n",
    "math_passed = math[(math['Mark'] == 'B+') | (math['Mark'] == 'A-') | (math['Mark'] == 'A') | (math['Mark'] == 'A+')]\n",
    "math_passed"
   ]
  },
  {
   "cell_type": "code",
   "execution_count": null,
   "id": "2b53efb7",
   "metadata": {},
   "outputs": [],
   "source": [
    "# Given a value of one for passing the term\n",
    "math_passed['Math Terms'] = 1\n",
    "math_passed"
   ]
  },
  {
   "cell_type": "code",
   "execution_count": null,
   "id": "97ec5af4",
   "metadata": {},
   "outputs": [],
   "source": [
    "# The number of terms for each course are summed together\n",
    "math_passed = math_passed.groupby(['Student ID', 'Course title'])['Math Terms'].sum().reset_index()\n",
    "math_passed"
   ]
  },
  {
   "cell_type": "code",
   "execution_count": null,
   "id": "82e5b439",
   "metadata": {},
   "outputs": [],
   "source": [
    "# Classes in which both terms were passed are selected\n",
    "math_passed = math_passed[math_passed['Math Terms'] > 1]\n",
    "math_passed"
   ]
  },
  {
   "cell_type": "code",
   "execution_count": null,
   "id": "d859816c",
   "metadata": {},
   "outputs": [],
   "source": [
    "# Students are given a value of one for each full year passed\n",
    "math_passed['Math'] = 1\n",
    "math_passed"
   ]
  },
  {
   "cell_type": "code",
   "execution_count": null,
   "id": "596ecb9d",
   "metadata": {},
   "outputs": [],
   "source": [
    "# The total number of courses passed are summed up for each student\n",
    "math = math_passed.groupby(['Student ID'])['Math'].sum().reset_index()\n",
    "math"
   ]
  },
  {
   "cell_type": "markdown",
   "id": "43feb594",
   "metadata": {},
   "source": [
    "### Science\n",
    "\n",
    "Science courses are selected and put through the same process as ELA and Math."
   ]
  },
  {
   "cell_type": "code",
   "execution_count": null,
   "id": "abd2dcfb",
   "metadata": {},
   "outputs": [],
   "source": [
    "# Science courses are selected\n",
    "science = grades[grades['CSU Req'] == 'D']\n",
    "science"
   ]
  },
  {
   "cell_type": "code",
   "execution_count": null,
   "id": "bc018b5a",
   "metadata": {},
   "outputs": [],
   "source": [
    "# Non BC science courses are selected\n",
    "non_bc = science[science['Crs Lvl'] != 24]\n",
    "non_bc"
   ]
  },
  {
   "cell_type": "code",
   "execution_count": null,
   "id": "6fd783b9",
   "metadata": {},
   "outputs": [],
   "source": [
    "# Courses with a B+ or above are chosen\n",
    "non_bc = non_bc[(non_bc['Mark'] == 'B+') | (non_bc['Mark'] == 'A-') | (non_bc['Mark'] == 'A') | (non_bc['Mark'] == 'A+')]\n",
    "non_bc"
   ]
  },
  {
   "cell_type": "code",
   "execution_count": null,
   "id": "162280db",
   "metadata": {},
   "outputs": [],
   "source": [
    "# A value of one is given to each term that is passed\n",
    "non_bc['Science Terms'] = 1\n",
    "non_bc"
   ]
  },
  {
   "cell_type": "code",
   "execution_count": null,
   "id": "8e809e32",
   "metadata": {},
   "outputs": [],
   "source": [
    "# The total number of terms passed for each course\n",
    "non_bc = non_bc.groupby(['Student ID', 'Course title'])['Science Terms'].sum().reset_index()\n",
    "non_bc"
   ]
  },
  {
   "cell_type": "code",
   "execution_count": null,
   "id": "3a80e745",
   "metadata": {},
   "outputs": [],
   "source": [
    "# The courses with two terms passed are selected\n",
    "non_bc = non_bc[non_bc['Science Terms'] > 1]\n",
    "non_bc"
   ]
  },
  {
   "cell_type": "code",
   "execution_count": null,
   "id": "3c3b501b",
   "metadata": {},
   "outputs": [],
   "source": [
    "# A value of one course passed is given\n",
    "non_bc['Science'] = 1\n",
    "non_bc"
   ]
  },
  {
   "cell_type": "code",
   "execution_count": null,
   "id": "b4491cb1",
   "metadata": {},
   "outputs": [],
   "source": [
    "# The total number of non bc courses are summed up\n",
    "non_bc = non_bc.groupby(['Student ID'])['Science'].sum().reset_index()\n",
    "non_bc"
   ]
  },
  {
   "cell_type": "code",
   "execution_count": null,
   "id": "578b3293",
   "metadata": {},
   "outputs": [],
   "source": [
    "# BC courses are selected\n",
    "bc = science[science['Crs Lvl'] == 24]\n",
    "bc"
   ]
  },
  {
   "cell_type": "code",
   "execution_count": null,
   "id": "3a07b970",
   "metadata": {},
   "outputs": [],
   "source": [
    "# The classes with a grade B+ and above are selected\n",
    "bc = bc[(bc['Mark'] == 'B+') | (bc['Mark'] == 'A-') | (bc['Mark'] == 'A') | (bc['Mark'] == 'A+')]\n",
    "bc"
   ]
  },
  {
   "cell_type": "code",
   "execution_count": null,
   "id": "2c315dad",
   "metadata": {},
   "outputs": [],
   "source": [
    "# A value of one course passed is given\n",
    "bc['Science'] = 1\n",
    "bc"
   ]
  },
  {
   "cell_type": "code",
   "execution_count": null,
   "id": "b5257e42",
   "metadata": {},
   "outputs": [],
   "source": [
    "# The number of BC science courses are added up\n",
    "bc = bc.groupby(['Student ID'])['Science'].sum().reset_index()\n",
    "bc"
   ]
  },
  {
   "cell_type": "code",
   "execution_count": null,
   "id": "a7ee6647",
   "metadata": {},
   "outputs": [],
   "source": [
    "# All science courses are added together\n",
    "science = pd.concat([non_bc, bc])\n",
    "science"
   ]
  },
  {
   "cell_type": "code",
   "execution_count": null,
   "id": "b50bf005",
   "metadata": {},
   "outputs": [],
   "source": [
    "# The total of science courses are added up\n",
    "science = science.groupby(['Student ID'])['Science'].sum().reset_index()\n",
    "science"
   ]
  },
  {
   "cell_type": "markdown",
   "id": "4eca302e",
   "metadata": {},
   "source": [
    "### History\n",
    "\n",
    "Whether or not a student passed US History will be looked at. Then the number of other history courses that the student has passed will be calculated."
   ]
  },
  {
   "cell_type": "code",
   "execution_count": null,
   "id": "e115ce0d",
   "metadata": {},
   "outputs": [],
   "source": [
    "# All history courses will be selected\n",
    "history = grades[grades['CSU Req'] == 'A']\n",
    "history"
   ]
  },
  {
   "cell_type": "code",
   "execution_count": null,
   "id": "7a94b8a5",
   "metadata": {},
   "outputs": [],
   "source": [
    "# US History is selected\n",
    "non_bc = history[history['Course#'] == '3010']\n",
    "non_bc"
   ]
  },
  {
   "cell_type": "code",
   "execution_count": null,
   "id": "be4258f0",
   "metadata": {},
   "outputs": [],
   "source": [
    "# Selects grades that are B and above\n",
    "non_bc = non_bc[(non_bc['Mark'] == 'B+') | (non_bc['Mark'] == 'A-') | (non_bc['Mark'] == 'A') | (non_bc['Mark'] == 'A+') | (non_bc['Mark'] == 'B')]\n",
    "non_bc"
   ]
  },
  {
   "cell_type": "code",
   "execution_count": null,
   "id": "53c93606",
   "metadata": {},
   "outputs": [],
   "source": [
    "# Gives a value of 1 to each term passed\n",
    "non_bc['US Terms'] = 1\n",
    "non_bc"
   ]
  },
  {
   "cell_type": "code",
   "execution_count": null,
   "id": "7324935c",
   "metadata": {},
   "outputs": [],
   "source": [
    "# Sums up the number of terms passed\n",
    "non_bc = non_bc.groupby(['Student ID', 'Course title'])['US Terms'].sum().reset_index()\n",
    "non_bc"
   ]
  },
  {
   "cell_type": "code",
   "execution_count": null,
   "id": "e0646564",
   "metadata": {},
   "outputs": [],
   "source": [
    "# Selecting courses that have passed both semesters\n",
    "non_bc = non_bc[non_bc['US Terms'] > 1]\n",
    "non_bc"
   ]
  },
  {
   "cell_type": "code",
   "execution_count": null,
   "id": "74b6a81b",
   "metadata": {},
   "outputs": [],
   "source": [
    "# Given one course passed for each one\n",
    "non_bc['US History'] = 1\n",
    "non_bc"
   ]
  },
  {
   "cell_type": "code",
   "execution_count": null,
   "id": "52504a7d",
   "metadata": {},
   "outputs": [],
   "source": [
    "# Summing up the number of US History courses passed\n",
    "non_bc = non_bc.groupby(['Student ID'])['US History'].sum().reset_index()\n",
    "non_bc"
   ]
  },
  {
   "cell_type": "code",
   "execution_count": null,
   "id": "bcfa3094",
   "metadata": {},
   "outputs": [],
   "source": [
    "# Selecting the US History BC course\n",
    "bc = history[history['Course#'] == '3020']\n",
    "bc"
   ]
  },
  {
   "cell_type": "code",
   "execution_count": null,
   "id": "7793cb64",
   "metadata": {},
   "outputs": [],
   "source": [
    "# Selecting students who passed the course with B and above\n",
    "bc = bc[(bc['Mark'] == 'B+') | (bc['Mark'] == 'A-') | (bc['Mark'] == 'A') | (bc['Mark'] == 'A+') | (bc['Mark'] == 'B')]\n",
    "bc"
   ]
  },
  {
   "cell_type": "code",
   "execution_count": null,
   "id": "70d346a8",
   "metadata": {},
   "outputs": [],
   "source": [
    "# Given one course passed for each student\n",
    "bc['US History'] = 1\n",
    "bc"
   ]
  },
  {
   "cell_type": "code",
   "execution_count": null,
   "id": "f916bc60",
   "metadata": {},
   "outputs": [],
   "source": [
    "bc = bc.groupby(['Student ID'])['US History'].sum().reset_index()\n",
    "bc"
   ]
  },
  {
   "cell_type": "code",
   "execution_count": null,
   "id": "e500dfef",
   "metadata": {},
   "outputs": [],
   "source": [
    "# Puts together BC and non BC US History courses\n",
    "us_history = pd.concat([non_bc, bc])"
   ]
  },
  {
   "cell_type": "code",
   "execution_count": null,
   "id": "9e912baa",
   "metadata": {},
   "outputs": [],
   "source": [
    "us_history"
   ]
  },
  {
   "cell_type": "code",
   "execution_count": null,
   "id": "1a0d15f1",
   "metadata": {},
   "outputs": [],
   "source": [
    "us_history.describe()"
   ]
  },
  {
   "cell_type": "code",
   "execution_count": null,
   "id": "a477c648",
   "metadata": {},
   "outputs": [],
   "source": [
    "history"
   ]
  },
  {
   "cell_type": "code",
   "execution_count": null,
   "id": "81791a17",
   "metadata": {},
   "outputs": [],
   "source": [
    "# Filtering out US History\n",
    "history = history[history['Course#'] != '3010']\n",
    "history"
   ]
  },
  {
   "cell_type": "code",
   "execution_count": null,
   "id": "4dac189e",
   "metadata": {},
   "outputs": [],
   "source": [
    "# Filtering out the BC US History course\n",
    "history = history[history['Course#'] != '3020']\n",
    "history"
   ]
  },
  {
   "cell_type": "code",
   "execution_count": null,
   "id": "a637b097",
   "metadata": {},
   "outputs": [],
   "source": [
    "# Selecting non BC courses\n",
    "non_bc = history[history['Crs Lvl'] != 24]\n",
    "non_bc"
   ]
  },
  {
   "cell_type": "code",
   "execution_count": null,
   "id": "71470010",
   "metadata": {},
   "outputs": [],
   "source": [
    "# Selecting courses that are passed with B and above\n",
    "non_bc = non_bc[(non_bc['Mark'] == 'B+') | (non_bc['Mark'] == 'A-') | (non_bc['Mark'] == 'A') | (non_bc['Mark'] == 'A+') | (non_bc['Mark'] == 'B')]\n",
    "non_bc"
   ]
  },
  {
   "cell_type": "code",
   "execution_count": null,
   "id": "a9feaa4e",
   "metadata": {},
   "outputs": [],
   "source": [
    "# Give a value of one for a term passed\n",
    "non_bc['Other Terms'] = 1\n",
    "non_bc"
   ]
  },
  {
   "cell_type": "code",
   "execution_count": null,
   "id": "984a0e86",
   "metadata": {},
   "outputs": [],
   "source": [
    "# Sums up the terms passed\n",
    "non_bc = non_bc.groupby(['Student ID', 'Course title'])['Other Terms'].sum().reset_index()\n",
    "non_bc"
   ]
  },
  {
   "cell_type": "code",
   "execution_count": null,
   "id": "a72171a0",
   "metadata": {},
   "outputs": [],
   "source": [
    "# Selects students who have passed both terms\n",
    "non_bc = non_bc[non_bc['Other Terms'] > 1]\n",
    "non_bc"
   ]
  },
  {
   "cell_type": "code",
   "execution_count": null,
   "id": "c44d1bcc",
   "metadata": {},
   "outputs": [],
   "source": [
    "# Gives a value of one for course passed\n",
    "non_bc['Other History'] = 1\n",
    "non_bc"
   ]
  },
  {
   "cell_type": "code",
   "execution_count": null,
   "id": "f0a51f3b",
   "metadata": {},
   "outputs": [],
   "source": [
    "# Sums up the history classes passed\n",
    "non_bc = non_bc.groupby(['Student ID'])['Other History'].sum().reset_index()\n",
    "non_bc"
   ]
  },
  {
   "cell_type": "code",
   "execution_count": null,
   "id": "c6a06b86",
   "metadata": {},
   "outputs": [],
   "source": [
    "# Looks at the BC courses passed\n",
    "bc = history[history['Crs Lvl'] == 24]\n",
    "bc"
   ]
  },
  {
   "cell_type": "code",
   "execution_count": null,
   "id": "517005e2",
   "metadata": {},
   "outputs": [],
   "source": [
    "# Selecting students who earned a B or above\n",
    "bc = bc[(bc['Mark'] == 'B+') | (bc['Mark'] == 'A-') | (bc['Mark'] == 'A') | (bc['Mark'] == 'A+') | (bc['Mark'] == 'B')]\n",
    "bc"
   ]
  },
  {
   "cell_type": "code",
   "execution_count": null,
   "id": "684d91e0",
   "metadata": {},
   "outputs": [],
   "source": [
    "# Gives credit for one course passed\n",
    "bc['Other History'] = 1\n",
    "bc"
   ]
  },
  {
   "cell_type": "code",
   "execution_count": null,
   "id": "7f6d4ff4",
   "metadata": {},
   "outputs": [],
   "source": [
    "# Sums up number of BC courses passed\n",
    "bc = bc.groupby(['Student ID'])['Other History'].sum().reset_index()\n",
    "bc"
   ]
  },
  {
   "cell_type": "code",
   "execution_count": null,
   "id": "22ef7394",
   "metadata": {},
   "outputs": [],
   "source": [
    "# Concats other history courses together\n",
    "other_history = pd.concat([non_bc, bc])\n",
    "other_history"
   ]
  },
  {
   "cell_type": "code",
   "execution_count": null,
   "id": "439d444e",
   "metadata": {},
   "outputs": [],
   "source": [
    "# Sums up all the other history courses passed\n",
    "other_history = other_history.groupby(['Student ID'])['Other History'].sum().reset_index()\n",
    "other_history"
   ]
  },
  {
   "cell_type": "code",
   "execution_count": null,
   "id": "94f28b8a",
   "metadata": {},
   "outputs": [],
   "source": [
    "# Merges the two history columns together\n",
    "history = pd.merge(us_history, other_history, how='outer', on='Student ID')\n",
    "history"
   ]
  },
  {
   "cell_type": "code",
   "execution_count": null,
   "id": "78f128fd",
   "metadata": {},
   "outputs": [],
   "source": [
    "# Fills in nan values with a 0\n",
    "history = history.fillna(0)\n",
    "history"
   ]
  },
  {
   "cell_type": "markdown",
   "id": "ebe7f4f7",
   "metadata": {},
   "source": [
    "### Other Courses\n",
    "\n",
    "The courses that meet other A through G subjects that have not been looked at will go through a similar process to figure out how many other courses the students have passed."
   ]
  },
  {
   "cell_type": "code",
   "execution_count": null,
   "id": "2057e195",
   "metadata": {},
   "outputs": [],
   "source": [
    "# The other categories of A through G are selected\n",
    "other = grades[(grades['CSU Req'] == 'E') | (grades['CSU Req'] == 'F') | (grades['CSU Req'] == 'G')]\n",
    "other"
   ]
  },
  {
   "cell_type": "code",
   "execution_count": null,
   "id": "3254e38e",
   "metadata": {},
   "outputs": [],
   "source": [
    "# Non BC courses are selected\n",
    "non_bc = other[other['Crs Lvl'] != 24]\n",
    "non_bc"
   ]
  },
  {
   "cell_type": "code",
   "execution_count": null,
   "id": "150d65df",
   "metadata": {},
   "outputs": [],
   "source": [
    "# Courses where students have earned a B or above are looked at\n",
    "non_bc = non_bc[(non_bc['Mark'] == 'B+') | (non_bc['Mark'] == 'A-') | (non_bc['Mark'] == 'A') | (non_bc['Mark'] == 'A+') | (non_bc['Mark'] == 'B')]\n",
    "non_bc"
   ]
  },
  {
   "cell_type": "code",
   "execution_count": null,
   "id": "2cb9924b",
   "metadata": {},
   "outputs": [],
   "source": [
    "# Give credit for one semester passed\n",
    "non_bc['Other Terms'] = 1\n",
    "non_bc"
   ]
  },
  {
   "cell_type": "code",
   "execution_count": null,
   "id": "57fe314a",
   "metadata": {},
   "outputs": [],
   "source": [
    "# Add up terms for each course passed\n",
    "non_bc = non_bc.groupby(['Student ID', 'Course title'])['Other Terms'].sum().reset_index()\n",
    "non_bc"
   ]
  },
  {
   "cell_type": "code",
   "execution_count": null,
   "id": "ed746607",
   "metadata": {},
   "outputs": [],
   "source": [
    "# Selects courses where only 2 semesters were passed\n",
    "non_bc = non_bc[non_bc['Other Terms'] > 1]\n",
    "non_bc"
   ]
  },
  {
   "cell_type": "code",
   "execution_count": null,
   "id": "8e85ba92",
   "metadata": {},
   "outputs": [],
   "source": [
    "# Gives credit for one course passed\n",
    "non_bc['Other Classes'] = 1\n",
    "non_bc"
   ]
  },
  {
   "cell_type": "code",
   "execution_count": null,
   "id": "953978d6",
   "metadata": {},
   "outputs": [],
   "source": [
    "# Sums up the number of classes passed\n",
    "non_bc = non_bc.groupby(['Student ID'])['Other Classes'].sum().reset_index()\n",
    "non_bc"
   ]
  },
  {
   "cell_type": "code",
   "execution_count": null,
   "id": "67858f14",
   "metadata": {},
   "outputs": [],
   "source": [
    "# Selects the BC courses\n",
    "bc = other[other['Crs Lvl'] == 24]\n",
    "bc"
   ]
  },
  {
   "cell_type": "code",
   "execution_count": null,
   "id": "6898e881",
   "metadata": {},
   "outputs": [],
   "source": [
    "# Selects the courses where B or above was earned\n",
    "bc = bc[(bc['Mark'] == 'B+') | (bc['Mark'] == 'A-') | (bc['Mark'] == 'A') | (bc['Mark'] == 'A+') | (bc['Mark'] == 'B')]\n",
    "bc"
   ]
  },
  {
   "cell_type": "code",
   "execution_count": null,
   "id": "17ffe1fd",
   "metadata": {},
   "outputs": [],
   "source": [
    "# Gives credit for one course passed\n",
    "bc['Other Classes'] = 1\n",
    "bc"
   ]
  },
  {
   "cell_type": "code",
   "execution_count": null,
   "id": "d37ecd82",
   "metadata": {},
   "outputs": [],
   "source": [
    "# Sums up number of BC courses passed\n",
    "bc = bc.groupby(['Student ID'])['Other Classes'].sum().reset_index()\n",
    "bc"
   ]
  },
  {
   "cell_type": "code",
   "execution_count": null,
   "id": "e15c688c",
   "metadata": {},
   "outputs": [],
   "source": [
    "# Puts together non BC and BC courses passed\n",
    "other_classes = pd.concat([non_bc, bc])\n",
    "other_classes"
   ]
  },
  {
   "cell_type": "code",
   "execution_count": null,
   "id": "a67a3e1e",
   "metadata": {},
   "outputs": [],
   "source": [
    "# Sums up all other classes passed\n",
    "other_classes = other_classes.groupby(['Student ID'])['Other Classes'].sum().reset_index()\n",
    "other_classes"
   ]
  },
  {
   "cell_type": "code",
   "execution_count": null,
   "id": "8f120219",
   "metadata": {},
   "outputs": [],
   "source": [
    "students_sbac"
   ]
  },
  {
   "cell_type": "code",
   "execution_count": null,
   "id": "8b21ed13",
   "metadata": {},
   "outputs": [],
   "source": [
    "# Merges with ELA courses passed\n",
    "final = pd.merge(students_sbac, ela, how='outer', on='Student ID')\n",
    "final"
   ]
  },
  {
   "cell_type": "code",
   "execution_count": null,
   "id": "51c61aec",
   "metadata": {},
   "outputs": [],
   "source": [
    "# Merges Math courses passed\n",
    "final = pd.merge(final, math, how='outer', on='Student ID')\n",
    "final"
   ]
  },
  {
   "cell_type": "code",
   "execution_count": null,
   "id": "14981e4d",
   "metadata": {},
   "outputs": [],
   "source": [
    "# Merges Science courses\n",
    "final = pd.merge(final, science, how='outer', on='Student ID')\n",
    "final"
   ]
  },
  {
   "cell_type": "code",
   "execution_count": null,
   "id": "fc1568e6",
   "metadata": {},
   "outputs": [],
   "source": [
    "# Merges History courses\n",
    "final = pd.merge(final, history, how='outer', on='Student ID')\n",
    "final"
   ]
  },
  {
   "cell_type": "code",
   "execution_count": null,
   "id": "fc3136ca",
   "metadata": {},
   "outputs": [],
   "source": [
    "# Merge other classes\n",
    "final = pd.merge(final, other_classes, how='outer', on='Student ID')\n",
    "final"
   ]
  },
  {
   "cell_type": "code",
   "execution_count": null,
   "id": "f78b4e02",
   "metadata": {},
   "outputs": [],
   "source": [
    "# Drops duplicates based on student ID\n",
    "final = final.drop_duplicates(subset='Student ID')\n",
    "final"
   ]
  },
  {
   "cell_type": "code",
   "execution_count": null,
   "id": "2e944362",
   "metadata": {},
   "outputs": [],
   "source": [
    "# Fill in nan values with a 0\n",
    "final = final.fillna(0)\n",
    "final"
   ]
  },
  {
   "cell_type": "markdown",
   "id": "b3f32b4d",
   "metadata": {},
   "source": [
    "## Golden State Student Calculations\n",
    "\n",
    "If a student is eligible for the Golden State Seal will be looked at in the following sections. It will be done by looking at the students in different categories starting from how they performed on their state tests and then work down to how the performed in their coursework."
   ]
  },
  {
   "cell_type": "markdown",
   "id": "1d852531",
   "metadata": {},
   "source": [
    "### Passed Both SBACS\n",
    "\n",
    "Students who passed both state tests will be looked at allowing for their ela and math courses to be added into other classes. Then it will be looked at if they passed one science course and the us history course to see if they qualify"
   ]
  },
  {
   "cell_type": "code",
   "execution_count": null,
   "id": "93d18900",
   "metadata": {},
   "outputs": [],
   "source": [
    "# Selects students who passed both state tests\n",
    "both_tests = final[(final['SBAC ELA'] == 'Yes') & (final['SBAC Math'] == 'Yes')]\n",
    "both_tests"
   ]
  },
  {
   "cell_type": "code",
   "execution_count": null,
   "id": "27c01907",
   "metadata": {},
   "outputs": [],
   "source": [
    "# Add ELA course, math courses and other history courses into other classes\n",
    "both_tests['Other Classes'] = both_tests['Other Classes'] + both_tests['ELA'] + both_tests['Math'] + both_tests['Other History']\n",
    "both_tests"
   ]
  },
  {
   "cell_type": "code",
   "execution_count": null,
   "id": "cc2ed3c4",
   "metadata": {},
   "outputs": [],
   "source": [
    "# Selects students who passed one science course\n",
    "both_science = both_tests[both_tests['Science'] > 1]\n",
    "both_science"
   ]
  },
  {
   "cell_type": "code",
   "execution_count": null,
   "id": "a0d28e30",
   "metadata": {},
   "outputs": [],
   "source": [
    "# Add other science courses into their science class\n",
    "both_science['Other Classes'] = both_science['Other Classes'] + both_science['Science'] - 1\n",
    "both_science"
   ]
  },
  {
   "cell_type": "code",
   "execution_count": null,
   "id": "de685818",
   "metadata": {},
   "outputs": [],
   "source": [
    "# Reduces science to just one course\n",
    "both_science['Science'] = 1"
   ]
  },
  {
   "cell_type": "code",
   "execution_count": null,
   "id": "ba1a04b3",
   "metadata": {},
   "outputs": [],
   "source": [
    "# Selects students who passed one or less science\n",
    "both_fail = both_tests[both_tests['Science'] <= 1]\n",
    "both_fail"
   ]
  },
  {
   "cell_type": "code",
   "execution_count": null,
   "id": "9b58b739",
   "metadata": {},
   "outputs": [],
   "source": [
    "# Puts back together the two science groupings\n",
    "both_tests = pd.concat([both_science, both_fail])\n",
    "both_tests"
   ]
  },
  {
   "cell_type": "code",
   "execution_count": null,
   "id": "07c22b7d",
   "metadata": {},
   "outputs": [],
   "source": [
    "# Sets ELA and Math to zero since they are not needed\n",
    "both_tests['ELA'] = 0\n",
    "both_tests['Math'] = 0\n",
    "both_tests"
   ]
  },
  {
   "cell_type": "code",
   "execution_count": null,
   "id": "870cfceb",
   "metadata": {},
   "outputs": [],
   "source": [
    "# Students who are eligible are selected based on coursework criteria\n",
    "both_tests_yes = both_tests[(both_tests['Science'] >= 1) & (both_tests['US History'] >= 1) & (both_tests['Other Classes'] >= 2)]\n",
    "both_tests_yes"
   ]
  },
  {
   "cell_type": "code",
   "execution_count": null,
   "id": "4eec7471",
   "metadata": {},
   "outputs": [],
   "source": [
    "# Given a value of yes for being eligible\n",
    "both_tests_yes['Golden State'] = 'Yes'"
   ]
  },
  {
   "cell_type": "code",
   "execution_count": null,
   "id": "cbc9539b",
   "metadata": {},
   "outputs": [],
   "source": [
    "both_tests"
   ]
  },
  {
   "cell_type": "code",
   "execution_count": null,
   "id": "54662eb0",
   "metadata": {},
   "outputs": [],
   "source": [
    "# Students who are not eligible based on criteria are selected\n",
    "both_tests_no = both_tests[(both_tests['Science'] < 1) | (both_tests['US History'] < 1) | (both_tests['Other Classes'] < 2)]\n",
    "both_tests_no"
   ]
  },
  {
   "cell_type": "code",
   "execution_count": null,
   "id": "92b985d7",
   "metadata": {},
   "outputs": [],
   "source": [
    "# Given a value of No for being eligible\n",
    "both_tests_no['Golden State'] = 'No'\n",
    "both_tests_no"
   ]
  },
  {
   "cell_type": "code",
   "execution_count": null,
   "id": "d408d57c",
   "metadata": {},
   "outputs": [],
   "source": [
    "# Puts both groups back together\n",
    "both_tests = pd.concat([both_tests_yes, both_tests_no])\n",
    "both_tests"
   ]
  },
  {
   "cell_type": "markdown",
   "id": "e76011ef",
   "metadata": {},
   "source": [
    "### ELA Alone\n",
    "\n",
    "For this section students who passed the ELA state test only are looked at and then have math coursework used to determine their eligibility"
   ]
  },
  {
   "cell_type": "code",
   "execution_count": null,
   "id": "4d61fdbe",
   "metadata": {},
   "outputs": [],
   "source": [
    "# Filters student who passed ELA but not Math\n",
    "ela_alone = final[(final['SBAC ELA'] == 'Yes') & (final['SBAC Math'] == 'No')]\n",
    "ela_alone"
   ]
  },
  {
   "cell_type": "code",
   "execution_count": null,
   "id": "eff69797",
   "metadata": {},
   "outputs": [],
   "source": [
    "# Adds ELA coursework and other history to other classes\n",
    "ela_alone['Other Classes'] = ela_alone['Other Classes'] + ela_alone['ELA'] + ela_alone['Other History']\n",
    "ela_alone"
   ]
  },
  {
   "cell_type": "code",
   "execution_count": null,
   "id": "b49c2fca",
   "metadata": {},
   "outputs": [],
   "source": [
    "# Finds students who completed more than one science\n",
    "ela_science = ela_alone[ela_alone['Science'] > 1]\n",
    "ela_science"
   ]
  },
  {
   "cell_type": "code",
   "execution_count": null,
   "id": "5ac48a55",
   "metadata": {},
   "outputs": [],
   "source": [
    "# Adds the extra science to other classes\n",
    "ela_science['Other Classes'] = ela_science['Other Classes'] + ela_science['Science'] - 1\n",
    "ela_science"
   ]
  },
  {
   "cell_type": "code",
   "execution_count": null,
   "id": "a0053f02",
   "metadata": {},
   "outputs": [],
   "source": [
    "# Sets their science course to one\n",
    "ela_science['Science'] = 1\n",
    "ela_science"
   ]
  },
  {
   "cell_type": "code",
   "execution_count": null,
   "id": "96b2b115",
   "metadata": {},
   "outputs": [],
   "source": [
    "# Finds that students who completed one or less science\n",
    "ela_fail = ela_alone[ela_alone['Science'] <= 1]\n",
    "ela_fail"
   ]
  },
  {
   "cell_type": "code",
   "execution_count": null,
   "id": "7e982cef",
   "metadata": {},
   "outputs": [],
   "source": [
    "# Puts everyone back together again\n",
    "ela_alone = pd.concat([ela_science, ela_fail])\n",
    "ela_alone"
   ]
  },
  {
   "cell_type": "code",
   "execution_count": null,
   "id": "6bce0926",
   "metadata": {},
   "outputs": [],
   "source": [
    "# Finds students who passed more than one math course\n",
    "ela_math = ela_alone[ela_alone['Math'] > 1]\n",
    "ela_math"
   ]
  },
  {
   "cell_type": "code",
   "execution_count": null,
   "id": "fa1fb338",
   "metadata": {},
   "outputs": [],
   "source": [
    "# Adds the extra math to other classes\n",
    "ela_math['Other Classes'] = ela_math['Other Classes'] + ela_math['Math'] - 1\n",
    "ela_math"
   ]
  },
  {
   "cell_type": "code",
   "execution_count": null,
   "id": "b8a62c82",
   "metadata": {},
   "outputs": [],
   "source": [
    "# Sets math courses just to 1\n",
    "ela_math['Math'] = 1\n",
    "ela_math"
   ]
  },
  {
   "cell_type": "code",
   "execution_count": null,
   "id": "03a7494d",
   "metadata": {},
   "outputs": [],
   "source": [
    "# Finds the students who passed just one or less math\n",
    "ela_fail = ela_alone[ela_alone['Math'] <= 1]\n",
    "ela_fail"
   ]
  },
  {
   "cell_type": "code",
   "execution_count": null,
   "id": "7599d442",
   "metadata": {},
   "outputs": [],
   "source": [
    "# Puts all the data back together again\n",
    "ela_alone = pd.concat([ela_math, ela_fail])\n",
    "ela_alone"
   ]
  },
  {
   "cell_type": "code",
   "execution_count": null,
   "id": "556306c9",
   "metadata": {},
   "outputs": [],
   "source": [
    "# ELA is set to zero since they do not require these classes\n",
    "ela_alone['ELA'] = 0\n",
    "ela_alone"
   ]
  },
  {
   "cell_type": "code",
   "execution_count": null,
   "id": "59771e78",
   "metadata": {},
   "outputs": [],
   "source": [
    "# Selects students who meet reuirements\n",
    "ela_alone_yes = ela_alone[(ela_alone['Science'] >= 1) & (ela_alone['US History'] >= 1) & (ela_alone['Other Classes'] >= 2)\n",
    "                          & (ela_alone['Math'] >= 1)]\n",
    "ela_alone_yes"
   ]
  },
  {
   "cell_type": "code",
   "execution_count": null,
   "id": "d4ed3892",
   "metadata": {},
   "outputs": [],
   "source": [
    "# Gives them a yes value for meeting requirements\n",
    "ela_alone_yes['Golden State'] = 'Yes'\n",
    "ela_alone_yes"
   ]
  },
  {
   "cell_type": "code",
   "execution_count": null,
   "id": "98e88ae1",
   "metadata": {},
   "outputs": [],
   "source": [
    "# Selects students who do not meet requirements\n",
    "ela_alone_no = ela_alone[(ela_alone['Science'] < 1) | (ela_alone['US History'] < 1) | (ela_alone['Other Classes'] < 2)\n",
    "                          | (ela_alone['Math'] < 1)]\n",
    "ela_alone_no"
   ]
  },
  {
   "cell_type": "code",
   "execution_count": null,
   "id": "bad085e7",
   "metadata": {},
   "outputs": [],
   "source": [
    "# Gives them a no value for the requirements\n",
    "ela_alone_no['Golden State'] = 'No'\n",
    "ela_alone_no"
   ]
  },
  {
   "cell_type": "code",
   "execution_count": null,
   "id": "fb2edc52",
   "metadata": {},
   "outputs": [],
   "source": [
    "# Puts both groups back together\n",
    "ela_alone = pd.concat([ela_alone_yes, ela_alone_no])\n",
    "ela_alone"
   ]
  },
  {
   "cell_type": "markdown",
   "id": "7c88cdd6",
   "metadata": {},
   "source": [
    "### Math\n",
    "\n",
    "The same process is completed above but for students who only passed the math test and not the ela test."
   ]
  },
  {
   "cell_type": "code",
   "execution_count": null,
   "id": "43357473",
   "metadata": {},
   "outputs": [],
   "source": [
    "# Selects students who only passed the math test\n",
    "math_alone = final[(final['SBAC ELA'] == 'No') & (final['SBAC Math'] == 'Yes')]\n",
    "math_alone"
   ]
  },
  {
   "cell_type": "code",
   "execution_count": null,
   "id": "ce0d3e5d",
   "metadata": {},
   "outputs": [],
   "source": [
    "# Adds the math courses into the other classes\n",
    "math_alone['Other Classes'] = math_alone['Other Classes'] + math_alone['Math'] + math_alone['Other History']\n",
    "math_alone"
   ]
  },
  {
   "cell_type": "code",
   "execution_count": null,
   "id": "777b10e9",
   "metadata": {},
   "outputs": [],
   "source": [
    "# Selects students who passed more than one science course\n",
    "math_science = math_alone[math_alone['Science'] > 1]\n",
    "math_science"
   ]
  },
  {
   "cell_type": "code",
   "execution_count": null,
   "id": "a509d1e6",
   "metadata": {},
   "outputs": [],
   "source": [
    "# Adds the extra science courses into other classes\n",
    "math_science['Other Classes'] = math_science['Other Classes'] + math_science['Science'] - 1\n",
    "math_science"
   ]
  },
  {
   "cell_type": "code",
   "execution_count": null,
   "id": "12fbbdec",
   "metadata": {},
   "outputs": [],
   "source": [
    "# Sets the science courses to a value of one\n",
    "math_science['Science'] = 1\n",
    "math_science"
   ]
  },
  {
   "cell_type": "code",
   "execution_count": null,
   "id": "641333b9",
   "metadata": {},
   "outputs": [],
   "source": [
    "# Selects students who had one or less science courses\n",
    "math_fail = math_alone[math_alone['Science'] <= 1]\n",
    "math_fail"
   ]
  },
  {
   "cell_type": "code",
   "execution_count": null,
   "id": "b40972b0",
   "metadata": {},
   "outputs": [],
   "source": [
    "# Put both science groups together\n",
    "math_alone = pd.concat([math_science, math_fail])\n",
    "math_alone"
   ]
  },
  {
   "cell_type": "code",
   "execution_count": null,
   "id": "a78664ec",
   "metadata": {},
   "outputs": [],
   "source": [
    "# Selects students who had more than one ela course passed\n",
    "math_ela = math_alone[math_alone['ELA'] > 1]\n",
    "math_ela"
   ]
  },
  {
   "cell_type": "code",
   "execution_count": null,
   "id": "9f44d058",
   "metadata": {},
   "outputs": [],
   "source": [
    "# Adds the extra ela classes to the other classes\n",
    "math_ela['Other Classes'] = math_ela['Other Classes'] + math_ela['ELA'] - 1\n",
    "math_ela"
   ]
  },
  {
   "cell_type": "code",
   "execution_count": null,
   "id": "04e57648",
   "metadata": {},
   "outputs": [],
   "source": [
    "# Sets the ela classes to one\n",
    "math_ela['ELA'] = 1\n",
    "math_ela"
   ]
  },
  {
   "cell_type": "code",
   "execution_count": null,
   "id": "3bbc30c4",
   "metadata": {},
   "outputs": [],
   "source": [
    "# Selects student who had one or less ela\n",
    "math_fail = math_alone[math_alone['ELA'] <= 1]\n",
    "math_fail"
   ]
  },
  {
   "cell_type": "code",
   "execution_count": null,
   "id": "8900e1a3",
   "metadata": {},
   "outputs": [],
   "source": [
    "# Put both groups of ela together\n",
    "math_alone = pd.concat([math_ela, math_fail])\n",
    "math_alone"
   ]
  },
  {
   "cell_type": "code",
   "execution_count": null,
   "id": "d1881b25",
   "metadata": {},
   "outputs": [],
   "source": [
    "# Sets math to zero courses passed\n",
    "math_alone['Math'] = 0\n",
    "math_alone"
   ]
  },
  {
   "cell_type": "code",
   "execution_count": null,
   "id": "a9517325",
   "metadata": {},
   "outputs": [],
   "source": [
    "# Selects students who meet requirements\n",
    "math_alone_yes = math_alone[(math_alone['Science'] >= 1) & (math_alone['US History'] >= 1) & (math_alone['Other Classes'] >= 2)\n",
    "                          & (math_alone['ELA'] >= 1)]\n",
    "math_alone_yes"
   ]
  },
  {
   "cell_type": "code",
   "execution_count": null,
   "id": "2d72d395",
   "metadata": {},
   "outputs": [],
   "source": [
    "# Gives a yes to meeting the requirements\n",
    "math_alone_yes['Golden State'] = 'Yes'\n",
    "math_alone_yes"
   ]
  },
  {
   "cell_type": "code",
   "execution_count": null,
   "id": "7531206b",
   "metadata": {},
   "outputs": [],
   "source": [
    "# Selects students who do not meet the requirements\n",
    "math_alone_no = math_alone[(math_alone['Science'] < 1) | (math_alone['US History'] < 1) | (math_alone['Other Classes'] < 2)\n",
    "                          | (math_alone['ELA'] < 1)]\n",
    "math_alone_no"
   ]
  },
  {
   "cell_type": "code",
   "execution_count": null,
   "id": "034324d2",
   "metadata": {},
   "outputs": [],
   "source": [
    "# Gives a no for meeting the requirements\n",
    "math_alone_no['Golden State'] = 'No'\n",
    "math_alone_no"
   ]
  },
  {
   "cell_type": "code",
   "execution_count": null,
   "id": "bda7dc89",
   "metadata": {},
   "outputs": [],
   "source": [
    "# Puts both groups together\n",
    "math_alone = pd.concat([math_alone_yes, math_alone_no])\n",
    "math_alone"
   ]
  },
  {
   "cell_type": "markdown",
   "id": "f191bb17",
   "metadata": {},
   "source": [
    "### No Test\n",
    "\n",
    "In this section, students who did not meet any of the state test requirements are looked at. For these students it is just coursework that is used to determine whether or not they meet eligibility."
   ]
  },
  {
   "cell_type": "code",
   "execution_count": null,
   "id": "9a16a559",
   "metadata": {},
   "outputs": [],
   "source": [
    "# Students who did not pass either test are looked at\n",
    "no_test = final[(final['SBAC ELA'] == 'No') & (final['SBAC Math'] == 'No')]\n",
    "no_test"
   ]
  },
  {
   "cell_type": "code",
   "execution_count": null,
   "id": "63fab770",
   "metadata": {},
   "outputs": [],
   "source": [
    "# Other history are added into the other classes\n",
    "no_test['Other Classes'] = no_test['Other Classes'] + no_test['Other History']\n",
    "no_test"
   ]
  },
  {
   "cell_type": "code",
   "execution_count": null,
   "id": "4b9cca3d",
   "metadata": {},
   "outputs": [],
   "source": [
    "# Students who passed more than one science course are looked at\n",
    "no_science = no_test[no_test['Science'] > 1]\n",
    "no_science"
   ]
  },
  {
   "cell_type": "code",
   "execution_count": null,
   "id": "d4f16e7b",
   "metadata": {},
   "outputs": [],
   "source": [
    "# The extra science courses are added into other classes\n",
    "no_science['Other Classes'] = no_science['Other Classes'] + no_science['Science'] - 1\n",
    "no_science"
   ]
  },
  {
   "cell_type": "code",
   "execution_count": null,
   "id": "97b6a131",
   "metadata": {},
   "outputs": [],
   "source": [
    "# Science is set to one\n",
    "no_science['Science'] = 1\n",
    "no_science"
   ]
  },
  {
   "cell_type": "code",
   "execution_count": null,
   "id": "96b2b115",
   "metadata": {},
   "outputs": [],
   "source": [
    "# Students who passed one or less science course are selected\n",
    "no_fail = no_test[no_test['Science'] <= 1]\n",
    "no_fail"
   ]
  },
  {
   "cell_type": "code",
   "execution_count": null,
   "id": "7e982cef",
   "metadata": {},
   "outputs": [],
   "source": [
    "# Both science groups are put together\n",
    "no_test = pd.concat([no_science, no_fail])\n",
    "no_test"
   ]
  },
  {
   "cell_type": "code",
   "execution_count": null,
   "id": "a78664ec",
   "metadata": {},
   "outputs": [],
   "source": [
    "# Selects students who passed more than one ela\n",
    "no_ela = no_test[no_test['ELA'] > 1]\n",
    "no_ela"
   ]
  },
  {
   "cell_type": "code",
   "execution_count": null,
   "id": "9f44d058",
   "metadata": {},
   "outputs": [],
   "source": [
    "# Adds extra ela classes into other classes\n",
    "no_ela['Other Classes'] = no_ela['Other Classes'] + no_ela['ELA'] - 1\n",
    "no_ela"
   ]
  },
  {
   "cell_type": "code",
   "execution_count": null,
   "id": "04e57648",
   "metadata": {},
   "outputs": [],
   "source": [
    "# Sets ela to one\n",
    "no_ela['ELA'] = 1\n",
    "no_ela"
   ]
  },
  {
   "cell_type": "code",
   "execution_count": null,
   "id": "3bbc30c4",
   "metadata": {},
   "outputs": [],
   "source": [
    "# Selects students who passed one or less ela\n",
    "no_fail = no_test[no_test['ELA'] <= 1]\n",
    "no_fail"
   ]
  },
  {
   "cell_type": "code",
   "execution_count": null,
   "id": "8900e1a3",
   "metadata": {},
   "outputs": [],
   "source": [
    "# Puts both groups together\n",
    "no_test = pd.concat([no_ela, no_fail])\n",
    "no_test"
   ]
  },
  {
   "cell_type": "code",
   "execution_count": null,
   "id": "6bce0926",
   "metadata": {},
   "outputs": [],
   "source": [
    "# Selects students who passed more than one math\n",
    "no_math = no_test[no_test['Math'] > 1]\n",
    "no_math"
   ]
  },
  {
   "cell_type": "code",
   "execution_count": null,
   "id": "fa1fb338",
   "metadata": {},
   "outputs": [],
   "source": [
    "# Adds extra math classes to other classes\n",
    "no_math['Other Classes'] = no_math['Other Classes'] + no_math['Math'] - 1\n",
    "no_math"
   ]
  },
  {
   "cell_type": "code",
   "execution_count": null,
   "id": "b8a62c82",
   "metadata": {},
   "outputs": [],
   "source": [
    "# Sets math to one\n",
    "no_math['Math'] = 1\n",
    "no_math"
   ]
  },
  {
   "cell_type": "code",
   "execution_count": null,
   "id": "03a7494d",
   "metadata": {},
   "outputs": [],
   "source": [
    "# Selects one or under math\n",
    "no_fail = no_test[no_test['Math'] <= 1]\n",
    "no_fail"
   ]
  },
  {
   "cell_type": "code",
   "execution_count": null,
   "id": "7599d442",
   "metadata": {},
   "outputs": [],
   "source": [
    "# Puts both math groups back together again\n",
    "no_test = pd.concat([no_math, no_fail])\n",
    "no_test"
   ]
  },
  {
   "cell_type": "code",
   "execution_count": null,
   "id": "a9517325",
   "metadata": {},
   "outputs": [],
   "source": [
    "# Selects students who meet requirements\n",
    "no_alone_yes = no_test[(no_test['Science'] >= 1) & (no_test['US History'] >= 1) & (no_test['Other Classes'] >= 2)\n",
    "                          & (no_test['ELA'] >= 1) & (no_test['Math'] >= 1)]\n",
    "no_alone_yes"
   ]
  },
  {
   "cell_type": "code",
   "execution_count": null,
   "id": "2d72d395",
   "metadata": {},
   "outputs": [],
   "source": [
    "# Gives a yes for students who meet requirements\n",
    "no_alone_yes['Golden State'] = 'Yes'\n",
    "no_alone_yes"
   ]
  },
  {
   "cell_type": "code",
   "execution_count": null,
   "id": "7531206b",
   "metadata": {},
   "outputs": [],
   "source": [
    "# Selects students who do not meet requirements\n",
    "no_alone_no = no_test[(no_test['Science'] < 1) | (no_test['US History'] < 1) | (no_test['Other Classes'] < 2)\n",
    "                          | (no_test['Math'] < 1) | (no_test['ELA'] < 1)]\n",
    "no_alone_no"
   ]
  },
  {
   "cell_type": "code",
   "execution_count": null,
   "id": "034324d2",
   "metadata": {},
   "outputs": [],
   "source": [
    "# Gives a no to meeting requirements\n",
    "no_alone_no['Golden State'] = 'No'\n",
    "no_alone_no"
   ]
  },
  {
   "cell_type": "code",
   "execution_count": null,
   "id": "bda7dc89",
   "metadata": {},
   "outputs": [],
   "source": [
    "# Puts both groups back together\n",
    "no_alone = pd.concat([no_alone_yes, no_alone_no])\n",
    "no_alone"
   ]
  },
  {
   "cell_type": "markdown",
   "id": "f29f7683",
   "metadata": {},
   "source": [
    "### Final\n",
    "\n",
    "Puts together all of the different groups to produce one single dataframe."
   ]
  },
  {
   "cell_type": "code",
   "execution_count": null,
   "id": "39fdb864",
   "metadata": {},
   "outputs": [],
   "source": [
    "final = pd.concat([both_tests, ela_alone, math_alone, no_alone])\n",
    "final"
   ]
  },
  {
   "cell_type": "code",
   "execution_count": null,
   "id": "bd48379c",
   "metadata": {},
   "outputs": [],
   "source": [
    "final = final.drop_duplicates(subset='Student ID', keep='first')\n",
    "final"
   ]
  },
  {
   "cell_type": "code",
   "execution_count": null,
   "id": "5cc117df",
   "metadata": {
    "scrolled": true
   },
   "outputs": [],
   "source": [
    "# Gets rid of other history since it is useless at this time\n",
    "final = final.drop(['Other History'], axis=1)\n",
    "final"
   ]
  },
  {
   "cell_type": "code",
   "execution_count": null,
   "id": "2ec88867",
   "metadata": {},
   "outputs": [],
   "source": [
    "import base64\n",
    "from IPython.display import HTML\n",
    "\n",
    "def create_download_link( df, title = \"Golden State\", filename = \"Golden State\"):\n",
    "    csv = df.to_csv(index=False)\n",
    "    b64 = base64.b64encode(csv.encode())\n",
    "    payload = b64.decode()\n",
    "    html = '<a download=\"{filename}\" href=\"data:text/csv;base64,{payload}\" target=\"_blank\">{title}</a>'\n",
    "    html = html.format(payload=payload,title=title,filename=filename)\n",
    "    return HTML(html)\n",
    "\n",
    "create_download_link(final)"
   ]
  },
  {
   "cell_type": "code",
   "execution_count": null,
   "id": "918c315c",
   "metadata": {},
   "outputs": [],
   "source": [
    "#### "
   ]
  }
 ],
 "metadata": {
  "kernelspec": {
   "display_name": "Python 3 (ipykernel)",
   "language": "python",
   "name": "python3"
  },
  "language_info": {
   "codemirror_mode": {
    "name": "ipython",
    "version": 3
   },
   "file_extension": ".py",
   "mimetype": "text/x-python",
   "name": "python",
   "nbconvert_exporter": "python",
   "pygments_lexer": "ipython3",
   "version": "3.9.7"
  }
 },
 "nbformat": 4,
 "nbformat_minor": 5
}
